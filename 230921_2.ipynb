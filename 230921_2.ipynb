{
  "nbformat": 4,
  "nbformat_minor": 0,
  "metadata": {
    "colab": {
      "provenance": []
    },
    "kernelspec": {
      "name": "python3",
      "display_name": "Python 3"
    },
    "language_info": {
      "name": "python"
    }
  },
  "cells": [
    {
      "cell_type": "markdown",
      "source": [
        " 문제1: 1 ~ 9 까지 더하는 프로그램\n",
        "\n",
        " 문제2: 1 ~ 9 까지 홀수의 합\n",
        "\n",
        " 문제3: 1000 미만의 자연수에서 3의 배수와 5의 배수의 총합을 구하는 프로그램을 작성"
      ],
      "metadata": {
        "id": "ShF3L5tbCswJ"
      }
    },
    {
      "cell_type": "code",
      "execution_count": null,
      "metadata": {
        "colab": {
          "base_uri": "https://localhost:8080/"
        },
        "id": "bjTskXTDBQee",
        "outputId": "2a2eea48-8deb-4e28-9838-07794cc9f7c8"
      },
      "outputs": [
        {
          "output_type": "stream",
          "name": "stdout",
          "text": [
            "45\n"
          ]
        }
      ],
      "source": [
        "# 문제 1. 1~9까지 더하는 프로그램\n",
        "def sum_1():\n",
        "    total = 0\n",
        "    for i in range(1,10):\n",
        "        total+=i\n",
        "    return print(total)\n",
        "sum_1()"
      ]
    },
    {
      "cell_type": "code",
      "source": [
        "# 문제 2. 홀수의 합\n",
        "def sum_2():\n",
        "    total = 0\n",
        "    for i in range(1,10,2):\n",
        "        total+=i\n",
        "    return print(total)\n",
        "sum_2()"
      ],
      "metadata": {
        "colab": {
          "base_uri": "https://localhost:8080/"
        },
        "id": "By_-QfyQBX8t",
        "outputId": "aaba6579-18f3-4287-ee3d-4d4387d86e40"
      },
      "execution_count": null,
      "outputs": [
        {
          "output_type": "stream",
          "name": "stdout",
          "text": [
            "25\n"
          ]
        }
      ]
    },
    {
      "cell_type": "code",
      "source": [
        "# 문제 3. 1000미만의 자연수에서 3의 배수와 5의 배수의 총합을 구하는 프로그램\n",
        "def mul_some(n,r):\n",
        "    total = 0\n",
        "    for i in range(1,r+1):\n",
        "        if i % n == 0:\n",
        "            total += i\n",
        "    return total\n",
        "answer = mul_some(3,1000) + mul_some(5,1000) - mul_some(15,1000)\n",
        "print(answer)"
      ],
      "metadata": {
        "colab": {
          "base_uri": "https://localhost:8080/"
        },
        "id": "SFFNkLadBxbW",
        "outputId": "e47e40d7-62ca-4fcd-8910-ffb6ae5911f7"
      },
      "execution_count": null,
      "outputs": [
        {
          "output_type": "stream",
          "name": "stdout",
          "text": [
            "234168\n"
          ]
        }
      ]
    },
    {
      "cell_type": "code",
      "source": [
        "student.csv에는 아래와 같은 텍스트가 담겨있습니다.\n",
        "'''\n",
        "학년,반,번,이름,국어,영어,수학,사회\n",
        "3,3,1,licat,90,80,30,40\n",
        "3,3,2,mura,80,70,60,30\n",
        "3,3,3,binky,30,80,70,30\n",
        "'''\n",
        "학생들의 평균을 구해 아래와 같이 student.csv출력되게 해주세요.(xx이라 표기된 곳에 평균 값이 들어가야 합니다.)\n",
        "'''\n",
        "학년,반,번,이름,국어,영어,수학,사회,평균\n",
        "3,3,1,licat,90,80,30,40,xx\n",
        "3,3,2,mura,80,70,60,30,xx\n",
        "3,3,3,binky,30,80,70,30,xx\n",
        "'''"
      ],
      "metadata": {
        "id": "EZ2uppZDBGRn"
      },
      "execution_count": null,
      "outputs": []
    },
    {
      "cell_type": "code",
      "source": [
        "import csv\n",
        "\n",
        "# CSV 파일 열기\n",
        "with open('student.csv', 'r', newline='') as csvfile:\n",
        "    reader = csv.reader(csvfile)\n",
        "    header = next(reader)  # 헤더 읽기\n",
        "\n",
        "    # 새로운 헤더 생성\n",
        "    new_header = header + ['평균']\n",
        "\n",
        "    # 결과를 저장할 리스트 초기화\n",
        "    rows = []\n",
        "\n",
        "    # 각 행에 대한 처리\n",
        "    for row in reader:\n",
        "        # 성적 열 가져오기 (국어부터 사회까지의 열)\n",
        "        scores = [int(row[i]) for i in range(4, 8)]\n",
        "\n",
        "        # 평균 계산\n",
        "        average = sum(scores) / len(scores)\n",
        "\n",
        "        # 평균 값을 행에 추가\n",
        "        row.append(round(average, 2))  # 소수점 두 자리까지 표시\n",
        "\n",
        "        # 결과 리스트에 행 추가\n",
        "        rows.append(row)\n",
        "\n",
        "# 결과를 새로운 CSV 파일로 저장\n",
        "with open('student_with_average.csv', 'w', newline='') as csvfile:\n",
        "    writer = csv.writer(csvfile)\n",
        "    writer.writerow(new_header)  # 새로운 헤더 쓰기\n",
        "    writer.writerows(rows)       # 행 쓰기\n"
      ],
      "metadata": {
        "id": "yH-7XEsOpdml"
      },
      "execution_count": null,
      "outputs": []
    },
    {
      "cell_type": "code",
      "source": [],
      "metadata": {
        "colab": {
          "base_uri": "https://localhost:8080/",
          "height": 35
        },
        "id": "3_F6ZVDCqRQc",
        "outputId": "ca3927b5-3bc8-4ee2-f0ac-bce9e4bc1958"
      },
      "execution_count": null,
      "outputs": [
        {
          "output_type": "execute_result",
          "data": {
            "text/plain": [
              "'3,3,3,binky,30,80,70,30\\n'"
            ],
            "application/vnd.google.colaboratory.intrinsic+json": {
              "type": "string"
            }
          },
          "metadata": {},
          "execution_count": 49
        }
      ]
    }
  ]
}