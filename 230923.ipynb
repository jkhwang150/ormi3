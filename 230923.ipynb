{
  "nbformat": 4,
  "nbformat_minor": 0,
  "metadata": {
    "colab": {
      "provenance": []
    },
    "kernelspec": {
      "name": "python3",
      "display_name": "Python 3"
    },
    "language_info": {
      "name": "python"
    }
  },
  "cells": [
    {
      "cell_type": "markdown",
      "source": [
        "# 일반 문자열"
      ],
      "metadata": {
        "id": "lZV40xjOUyUG"
      }
    },
    {
      "cell_type": "code",
      "execution_count": 1,
      "metadata": {
        "id": "z26rtFaGHoFP"
      },
      "outputs": [],
      "source": [
        "# 대소문자를 가립니다.\n",
        "# ^hello는 처음에 나오는 hello 입니다.\n",
        "# hello^는 마지막에 나오는 hello는 아닙니다.\n",
        "# hello$는 마지막에 나오는 hello 입니다.\n",
        "# h.llo는 h 다음에 어떤 문자든 1개의 문자(영문, 특수문자, 숫자, 한글 등)가 오며 llow가 이어 나와야 합니다."
      ]
    },
    {
      "cell_type": "markdown",
      "source": [
        "#대괄호(택1)"
      ],
      "metadata": {
        "id": "_iGiQx0bU4pO"
      }
    },
    {
      "cell_type": "code",
      "source": [
        "a=1\n",
        "b=2# h[eao]llo는 hello, hallo, hollo를 선택합니다. 3개 문자중 택1입니다.\n",
        "# h[e!ao]llo는 hello, hallo, hollo, h!llo를 선택합니다. 3개 문자중 택1입니다.\n",
        "# [a-z]\n",
        "# [a-zA-Z]\n",
        "# [0-9]\n",
        "# [a-zA-Z0-9]\n",
        "# [가-힣]\n",
        "# h1el222lo3wo123rl2d # [0-9]라고\n",
        "# ^[a-z] : 부정이 아닙니다. 알파벳으로 시작하는 문자열입니다.\n",
        "# [^a-z] : 대괄호 안에 들어가면 부정입니다!\n",
        "# h[^ao]llo : a, o 모두 하나씩 아닌것\n",
        "# h[a^o]llo : a, ^, o 모두 하나씩 잡습니다. ^는 대괄호 열기 바로 다음에 나오게 해주세요."
      ],
      "metadata": {
        "colab": {
          "base_uri": "https://localhost:8080/"
        },
        "id": "OYI7SP4AH0_z",
        "outputId": "75d099c6-db07-408f-fd1d-782022b69736"
      },
      "execution_count": null,
      "outputs": [
        {
          "output_type": "execute_result",
          "data": {
            "text/plain": [
              "1.5"
            ]
          },
          "metadata": {},
          "execution_count": 4
        }
      ]
    },
    {
      "cell_type": "markdown",
      "source": [
        "#수량"
      ],
      "metadata": {
        "id": "6N4_ZvqHU7FO"
      }
    },
    {
      "cell_type": "code",
      "source": [
        "# _* : 앞에 있는 문자가 0개 ~ N개\n",
        "# _+ : 앞에 있는 문자가 1개 ~ N개\n",
        "# _? : 앞에 있는 문자가 0개 ~ 1개\n",
        "\n",
        "# {3} : 3개\n",
        "# {3,} : 3개 이상\n",
        "# {1,3} : 1개 ~ 3개\n",
        "\n",
        "# _* : 앞에 있는 문자가 0개 ~ N개 ({0,})\n",
        "# _+ : 앞에 있는 문자가 1개 ~ N개({1,})\n",
        "# _? : 앞에 있는 문자가 0개 ~ 1개 ({0,1})"
      ],
      "metadata": {
        "id": "pbQQbvfKIWpw"
      },
      "execution_count": null,
      "outputs": []
    },
    {
      "cell_type": "code",
      "source": [
        "# 이런 정규표현식은 여러분이 직접 만들지 마세요.\n",
        "# 인터넷 검색하면 나옵니다. email, 한국 전화번호 등이요.\n",
        "# why? 정규표현식에서 실수가 생겨 서비스에 CS가 들어온다던지\n",
        "# 크리티컬한 문제가 생긴다던지 하는 경우가 많습니다.\n",
        "# 읽을 줄은 알아야 합니다. 여러 패턴을 조합하거나, 비교는 해봐야 하니까요.\n",
        "# [0-9][0-9][0-9]-[0-9][0-9][0-9][0-9]-[0-9][0-9][0-9][0-9]\n",
        "# 0[0-9]+[-. ]?[0-9]{3,4}[-. ]?[0-9]{3,4}"
      ],
      "metadata": {
        "id": "aZJQa8y8U9XL"
      },
      "execution_count": null,
      "outputs": []
    },
    {
      "cell_type": "code",
      "source": [
        "# group1, group2\n",
        "# group1 => key\n",
        "# group2 => value\n",
        "# ([a-zA-Z0-9@\\.\\-]+), ?([a-zA-Z0-9@\\.\\-]+)\n",
        "# '[(name, leehojun), (age, 10), (height, 180), (email, paul-lab@naver.com)]'"
      ],
      "metadata": {
        "id": "YI6y2NdwU-3A"
      },
      "execution_count": null,
      "outputs": []
    },
    {
      "cell_type": "markdown",
      "source": [
        "#캐릭터 클래스"
      ],
      "metadata": {
        "id": "uZ8pvk7SVAtc"
      }
    },
    {
      "cell_type": "code",
      "source": [
        "# /\\w/gm : 워드(한글이 잡히지 않습니다!)\n",
        "# /\\w{5} /gm : 5개의 글자와 스페이스 하나\n",
        "# /\\W/gm : not 워드\n",
        "# /\\d/gm : 숫자\n",
        "# /\\D/gm : not 숫자\n",
        "# /\\s/gm : 스페이스\n",
        "# /\\S/gm : not 스페이스\n",
        "\n",
        "# 문제: 전화번호 정규표현식을 만들어주세요.\n",
        "# \\d{3}\\W?\\d{4}\\W?\\d{4}\n",
        "# 0[\\d]{1,2}[\\-\\. ]?[\\d]{3,4}[\\-\\. ]?[\\d]{3,4}"
      ],
      "metadata": {
        "id": "6O8qVxzpVCAj"
      },
      "execution_count": null,
      "outputs": []
    }
  ]
}