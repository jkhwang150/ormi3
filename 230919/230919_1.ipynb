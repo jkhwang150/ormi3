{
  "nbformat": 4,
  "nbformat_minor": 0,
  "metadata": {
    "colab": {
      "provenance": []
    },
    "kernelspec": {
      "name": "python3",
      "display_name": "Python 3"
    },
    "language_info": {
      "name": "python"
    }
  },
  "cells": [
    {
      "cell_type": "markdown",
      "source": [
        "#클래스 메서드와 정적(static) 메서드"
      ],
      "metadata": {
        "id": "dPxIf52QviCS"
      }
    },
    {
      "cell_type": "markdown",
      "source": [
        "# 새 섹션"
      ],
      "metadata": {
        "id": "LZ-S2t0otRhB"
      }
    },
    {
      "cell_type": "code",
      "execution_count": null,
      "metadata": {
        "colab": {
          "base_uri": "https://localhost:8080/"
        },
        "id": "GFd9FCsyvc27",
        "outputId": "979c0b81-1b00-4ad4-ea59-8888f5cb2ece"
      },
      "outputs": [
        {
          "output_type": "stream",
          "name": "stdout",
          "text": [
            "1\n"
          ]
        },
        {
          "output_type": "execute_result",
          "data": {
            "text/plain": [
              "(<__main__.MyClass at 0x7ecb8898ce20>, <__main__.MyClass at 0x7ecb8898f580>)"
            ]
          },
          "metadata": {},
          "execution_count": 5
        }
      ],
      "source": [
        "# 클래스 메서드\n",
        "class MyClass:\n",
        "    count = 0\n",
        "\n",
        "    @classmethod\n",
        "    def increment(cls):\n",
        "        cls.count += 1\n",
        "\n",
        "a = MyClass()\n",
        "b = MyClass()\n",
        "\n",
        "MyClass.increment()\n",
        "print(MyClass.count)  # 출력: 1\n",
        "\n",
        "a, b"
      ]
    },
    {
      "cell_type": "code",
      "source": [
        "# 클래스 메서드\n",
        "class MyClass:\n",
        "    count = 0\n",
        "\n",
        "    @classmethod\n",
        "    def increment(cls):\n",
        "        cls.count += 1\n",
        "\n",
        "a = MyClass()\n",
        "b = MyClass()\n",
        "\n",
        "MyClass.increment()\n",
        "print(MyClass.count) # 출력: 1\n",
        "\n",
        "a.count, b.count\n",
        "\n",
        "MyClass.increment()\n",
        "\n",
        "a.count, b.count"
      ],
      "metadata": {
        "id": "QN3U60hwxZbJ"
      },
      "execution_count": null,
      "outputs": []
    },
    {
      "cell_type": "code",
      "source": [
        "# 클래스 메서드\n",
        "class MyClass:\n",
        "    count = 0\n",
        "\n",
        "    def increment(self):\n",
        "        self.count += 1\n",
        "\n",
        "a = MyClass()\n",
        "b = MyClass()\n",
        "\n",
        "# MyClass.increment() # error\n",
        "a.increment()\n",
        "\n",
        "print(a.count, b.count)\n",
        "\n",
        "a.increment()\n",
        "\n",
        "print(a.count, b.count)"
      ],
      "metadata": {
        "id": "NsNUbXVf0W4-"
      },
      "execution_count": null,
      "outputs": []
    },
    {
      "cell_type": "code",
      "source": [
        "from types import CoroutineType\n",
        "class MyClass:\n",
        "    count = 10\n",
        "    @staticmethod\n",
        "    def my_method(x,y):\n",
        "        #print(count) # 읽는 것 조차 접근이 불가하다\n",
        "        return x + y #+ Count\n",
        "print(MyClass.my_method(5,3))"
      ],
      "metadata": {
        "colab": {
          "base_uri": "https://localhost:8080/"
        },
        "id": "DFC-57fN0ZMd",
        "outputId": "0c04c775-bca6-44f5-c061-dda145131c6d"
      },
      "execution_count": null,
      "outputs": [
        {
          "output_type": "stream",
          "name": "stdout",
          "text": [
            "8\n"
          ]
        }
      ]
    },
    {
      "cell_type": "code",
      "source": [
        "\n",
        "class 학사정보:\n",
        "    학점총점 = 120\n",
        "\n",
        "    def __init__(self):\n",
        "        self.학기점수 = []\n",
        "\n",
        "    def 학점추가(self, 이번학기점수):\n",
        "        self.학기점수.append(이번학기점수)\n",
        "\n",
        "    def 학점평균(self):\n",
        "        return sum(self.학기점수)/len(self.학기점수)\n",
        "\n",
        "    def 졸업장출력(self):\n",
        "        return f'총학점{self.학점총점}의 {self.학점평균()}으로 졸업하셨습니다.'\n",
        "피카츄 = 학사정보()\n",
        "꼬부기 = 학사정보()\n",
        "\n",
        "피카츄.학점추가(3.2)\n",
        "피카츄.학점추가(3.4)\n",
        "피카츄.학점추가(3.6)\n",
        "피카츄.학점추가(3.8)\n",
        "피카츄.학점추가(2.8)\n",
        "피카츄.학점추가(1.8)\n",
        "피카츄.학점추가(4.8)\n",
        "피카츄.학점추가(5.8)\n",
        "\n",
        "피카츄.학점평균()\n",
        "피카츄.졸업장출력()"
      ],
      "metadata": {
        "colab": {
          "base_uri": "https://localhost:8080/",
          "height": 35
        },
        "id": "ldNHQ4BP0wLA",
        "outputId": "2460411e-68a6-49a9-9d9f-aed1bd15cb31"
      },
      "execution_count": null,
      "outputs": [
        {
          "output_type": "execute_result",
          "data": {
            "text/plain": [
              "'총학점120의 3.5으로 졸업하셨습니다.'"
            ],
            "application/vnd.google.colaboratory.intrinsic+json": {
              "type": "string"
            }
          },
          "metadata": {},
          "execution_count": 18
        }
      ]
    },
    {
      "cell_type": "code",
      "source": [
        "# 스토리 : 중간에 총학점이 120학점에서 60학점으로 바뀌어서 조기졸업을 할 수 있게 되었습니다!\n",
        "class 학사정보시스템:\n",
        "    학점총점 = 120\n",
        "\n",
        "    def __init__(self):\n",
        "        self.학기점수 = []\n",
        "\n",
        "    def 학점추가(self, 이번학기점수):\n",
        "        self.학기점수.append(이번학기점수)\n",
        "\n",
        "    def 학점평균(self):\n",
        "        return sum(self.학기점수)/len(self.학기점수)\n",
        "\n",
        "    def 졸업장출력(self):\n",
        "        return f'총학점 {self.학점총점}학점, {self.학점평균()}으로 졸업하셨습니다.'\n",
        "\n",
        "피카츄 = 학사정보시스템()\n",
        "꼬부기 = 학사정보시스템()\n",
        "\n",
        "피카츄.학점추가(3.2)\n",
        "피카츄.학점추가(3.5)\n",
        "학사정보시스템.학점총점 = 60 # 이 코드가 변경이 된 것입니다. 이 방법을 저는 많이 사용하는데요.\n",
        "# 저는 이 코드의 위험성을 알고 있습니다. 제가 실수하지 않을 것을 알고 있기 때문에 이코드를 사용합니다.\n",
        "# 협업을 하거나 안정성을 더 확보하고 싶다면 클래스 메서드로 수정을 해주세요.\n",
        "피카츄.학점추가(3.0)\n",
        "피카츄.학점추가(2.8)\n",
        "\n",
        "피카츄.학점평균()\n",
        "print(피카츄.졸업장출력())\n",
        "\n",
        "꼬부기.학점추가(3.0)\n",
        "print(꼬부기.졸업장출력()) # 둘 다 변한 것을 확인할 수 있습니다."
      ],
      "metadata": {
        "colab": {
          "base_uri": "https://localhost:8080/"
        },
        "id": "n3O6fZnw1cyJ",
        "outputId": "bc5336d6-28bb-4b06-f46e-9e015646c093"
      },
      "execution_count": null,
      "outputs": [
        {
          "output_type": "stream",
          "name": "stdout",
          "text": [
            "총학점 60학점, 3.125으로 졸업하셨습니다.\n",
            "총학점 60학점, 3.0으로 졸업하셨습니다.\n"
          ]
        }
      ]
    },
    {
      "cell_type": "code",
      "source": [
        "# 스토리 : 중간에 총학점이 120학점에서 60학점으로 바뀌어서 조기졸업을 할 수 있게 되었습니다!\n",
        "class 학사정보시스템:\n",
        "    학점총점 = 120\n",
        "\n",
        "    def __init__(self):\n",
        "        self.학기점수 = []\n",
        "\n",
        "    def 학점추가(self, 이번학기점수):\n",
        "        self.학기점수.append(이번학기점수)\n",
        "\n",
        "    def 학점평균(self):\n",
        "        return sum(self.학기점수)/len(self.학기점수)\n",
        "\n",
        "    def 졸업장출력(self):\n",
        "        return f'총학점 {self.학점총점}학점, {self.학점평균()}으로 졸업하셨습니다.'\n",
        "    @classmethod\n",
        "    def 학점총점변경(cls,총점):\n",
        "        if isinstance(총점,int):\n",
        "            cls.학점총점 = 총점\n",
        "            return '변경됨'\n",
        "        return '변경안됨'\n",
        "\n",
        "피카츄 = 학사정보시스템()\n",
        "꼬부기 = 학사정보시스템()\n",
        "\n",
        "피카츄.학점추가(3.2)\n",
        "피카츄.학점추가(3.5)\n",
        "피카츄.학점추가(3.0)\n",
        "피카츄.학점추가(2.8)\n",
        "피카츄.학점평균()\n",
        "학사정보시스템.학점총점변경(60)\n",
        "print(피카츄.졸업장출력())\n",
        "\n",
        "꼬부기.학점추가(3.0)\n",
        "print(꼬부기.졸업장출력()) # 둘 다 변한 것을 확인할 수 있습니다."
      ],
      "metadata": {
        "colab": {
          "base_uri": "https://localhost:8080/"
        },
        "id": "ssk9Nvn_3nS6",
        "outputId": "295ab37c-4eb2-4b22-af1c-fbbebdbd4673"
      },
      "execution_count": null,
      "outputs": [
        {
          "output_type": "stream",
          "name": "stdout",
          "text": [
            "총학점 60학점, 3.125으로 졸업하셨습니다.\n",
            "총학점 60학점, 3.0으로 졸업하셨습니다.\n"
          ]
        }
      ]
    },
    {
      "cell_type": "markdown",
      "source": [
        "# 속성 접근자와 덕타이핑\n"
      ],
      "metadata": {
        "id": "SRP4g8_z9iA0"
      }
    },
    {
      "cell_type": "code",
      "source": [
        "class Person:\n",
        "    def __init__(self, first_name, last_name):\n",
        "        self._first_name = first_name\n",
        "        self._last_name = last_name\n",
        "\n",
        "    @property\n",
        "    def full_name(self):\n",
        "        return f'{self._first_name}{self._last_name}'\n",
        "\n",
        "licat = Person('li', 'cat')\n",
        "print(licat._first_name)\n",
        "print(licat._last_name)\n",
        "print(licat.full_name)\n",
        "# print(licat.full_name())"
      ],
      "metadata": {
        "id": "NcqB8rNj5qT5",
        "colab": {
          "base_uri": "https://localhost:8080/"
        },
        "outputId": "30559d17-f261-4c20-bb42-469eb078f1d2"
      },
      "execution_count": null,
      "outputs": [
        {
          "output_type": "stream",
          "name": "stdout",
          "text": [
            "li\n",
            "cat\n",
            "licat\n"
          ]
        }
      ]
    },
    {
      "cell_type": "code",
      "source": [
        "class Person:\n",
        "    def __init__(self, first_name, last_name):\n",
        "        self._first_name = first_name\n",
        "        self._last_name = last_name\n",
        "\n",
        "    @property\n",
        "    def full_name(self):\n",
        "        return f'{self._first_name}{self._last_name}'\n",
        "\n",
        "    def namemul(self):\n",
        "        return self.full_name * 2 # 클래스 내부에서도 self.full_name, 인스턴스 변수처럼 취급됩니다.\n",
        "\n",
        "licat = Person('li', 'cat')\n",
        "mura = Person('mu', 'ra')\n",
        "print(licat._first_name)\n",
        "print(licat._last_name)\n",
        "print(licat.full_name) # 클래스 변수였다면 둘 다 같은 값을 출력했었어야 합니다.\n",
        "print(mura.full_name) # 클래스 변수였다면 둘 다 같은 값을 출력했었어야 합니다.\n",
        "print(mura.namemul())"
      ],
      "metadata": {
        "colab": {
          "base_uri": "https://localhost:8080/"
        },
        "id": "KpiWe4ef9k-2",
        "outputId": "8eebb0b7-6b2a-4c41-8a66-c529316084e2"
      },
      "execution_count": null,
      "outputs": [
        {
          "output_type": "stream",
          "name": "stdout",
          "text": [
            "li\n",
            "cat\n",
            "licat\n",
            "mura\n",
            "muramura\n"
          ]
        }
      ]
    },
    {
      "cell_type": "code",
      "source": [
        "class Duck:\n",
        "    def introduce(self):\n",
        "        print('꽥꽥!')\n",
        "\n",
        "class Person:\n",
        "    def introduce(self):\n",
        "        print(\"안녕하세요!\")\n",
        "\n",
        "def introduce(obj):\n",
        "    print('인사시작')\n",
        "    obj.introduce()\n",
        "    print('인사끝')\n",
        "\n",
        "duck = Duck()\n",
        "person = Person()\n",
        "\n",
        "introduce(duck)  # 출력: 꽥꽥!\n",
        "introduce(person)  # 출력: 안녕하세요!\n",
        "\n",
        "# 장점1. 코드의 가독성이 좋아집니다. duck.introduce() 이렇게 사용하지 않고 intoduce(duck)로 사용하게 되면\n",
        "# dock에 object 안을 들여다보지 않고, 어느정도 기능을 유추할 수 있게 됩니다.\n",
        "# 장점2. 여러가지 obj를 하나의 함수에서 실행하며 커스터마이징도 가능합니다."
      ],
      "metadata": {
        "colab": {
          "base_uri": "https://localhost:8080/"
        },
        "id": "MOj67EWT_R6_",
        "outputId": "6ec23e8e-d454-4880-dc9f-314040c0123d"
      },
      "execution_count": null,
      "outputs": [
        {
          "output_type": "stream",
          "name": "stdout",
          "text": [
            "인사시작\n",
            "꽥꽥!\n",
            "인사끝\n",
            "인사시작\n",
            "안녕하세요!\n",
            "인사끝\n"
          ]
        }
      ]
    },
    {
      "cell_type": "code",
      "source": [
        "class Hero:\n",
        "    def move(self):\n",
        "        print('h 움직임')\n",
        "\n",
        "class Villain:\n",
        "    def move(self):\n",
        "        print('v 움직임')\n",
        "\n",
        "class Mob:\n",
        "    def move(self):\n",
        "        print('m 움직임')\n",
        "\n",
        "def move(obj):\n",
        "    obj.move()\n",
        "\n",
        "a = Hero()\n",
        "b = Villain()\n",
        "c = Mob()\n",
        "\n",
        "등장인물 = [a, b, c]\n",
        "\n",
        "for person in 등장인물:\n",
        "    move(person) # 강요도 아니고 권고도 아니고, 취향에 따라 선택하시면 됩니다.\n",
        "    person.move() # 나는 이렇게 사용해야겠다 하시면 사용하시면 됩니다."
      ],
      "metadata": {
        "colab": {
          "base_uri": "https://localhost:8080/"
        },
        "id": "czdcH2aeBtuS",
        "outputId": "3e3da3e8-71c4-483a-9abc-fb363c9f6b6c"
      },
      "execution_count": null,
      "outputs": [
        {
          "output_type": "stream",
          "name": "stdout",
          "text": [
            "h 움직임\n",
            "v 움직임\n",
            "m 움직임\n"
          ]
        }
      ]
    },
    {
      "cell_type": "markdown",
      "source": [
        "# 추상 클래스"
      ],
      "metadata": {
        "id": "grT4UzdjDdCy"
      }
    },
    {
      "cell_type": "code",
      "source": [
        "from abc import ABC, abstractmethod\n",
        "\n",
        "class Person:\n",
        "    def move(self):\n",
        "        pass\n",
        "\n",
        "\n",
        "class Hero(Person):\n",
        "    pass\n",
        "\n",
        "\n",
        "ironman = Hero()\n",
        "ironman.move()"
      ],
      "metadata": {
        "id": "wypqLFUjDezw"
      },
      "execution_count": null,
      "outputs": []
    },
    {
      "cell_type": "code",
      "source": [
        "from abc import ABC, abstractmethod\n",
        "\n",
        "class Person(ABC): # ABC를 상속받고\n",
        "\n",
        "    @abstractmethod # abstractmethod라고 선언을 하면\n",
        "    def move(self):\n",
        "        pass\n",
        "\n",
        "\n",
        "class Hero(Person): # 상속받은 자식에서 반드시 메서드 오버라이딩이 일어나야 합니다.\n",
        "    pass\n",
        "\n",
        "ironman = Hero()\n",
        "ironman.move()"
      ],
      "metadata": {
        "id": "SVYJuWoYErKj"
      },
      "execution_count": null,
      "outputs": []
    },
    {
      "cell_type": "code",
      "source": [
        "from abc import ABC, abstractmethod\n",
        "\n",
        "class Person(ABC): # ABC를 상속받고\n",
        "\n",
        "    @abstractmethod # abstractmethod라고 선언을 하면\n",
        "    def move(self):\n",
        "        pass\n",
        "\n",
        "\n",
        "class Hero(Person): # 상속받은 자식에서 반드시 메서드 오버라이딩이 일어나야 합니다.\n",
        "    def move(self):\n",
        "        print('날아다님!')\n",
        "\n",
        "ironman = Hero()\n",
        "ironman.move()"
      ],
      "metadata": {
        "id": "7K9sWoqcm3Cu"
      },
      "execution_count": null,
      "outputs": []
    },
    {
      "cell_type": "markdown",
      "source": [
        "#비공개 속성"
      ],
      "metadata": {
        "id": "HlkpFTFSm4mo"
      }
    },
    {
      "cell_type": "code",
      "source": [
        "# 비공개 속성이 조작 불가능한게 아닙니다!\n",
        "class MyClass:\n",
        "    __a = 10\n",
        "    _a = 100\n",
        "    b = 20\n",
        "\n",
        "    def __init__(self, c, d):\n",
        "        self.__c = c\n",
        "        self.d = d\n",
        "\n",
        "# MyClass.__a\n",
        "test = MyClass(30, 40)\n",
        "# test.__a # 오!? 접근이 가능하지 않네 => 오해입니다.\n",
        "print(test._MyClass__a)\n",
        "print(test._MyClass__c)"
      ],
      "metadata": {
        "id": "ZEuAu5wBm55p"
      },
      "execution_count": null,
      "outputs": []
    },
    {
      "cell_type": "code",
      "source": [
        "from google.colab import drive\n",
        "drive.mount('/content/drive')"
      ],
      "metadata": {
        "id": "bBpxuoRKtglW"
      },
      "execution_count": null,
      "outputs": []
    },
    {
      "cell_type": "code",
      "source": [
        "# 비공개 속성이 조작 불가능한게 아닙니다!\n",
        "class MyClass:\n",
        "    __a = 10\n",
        "    _a = 100\n",
        "    b = 20\n",
        "\n",
        "    def __init__(self, c, d):\n",
        "        self.__c = c\n",
        "        self.d = d\n",
        "\n",
        "# MyClass.__a\n",
        "test = MyClass(30, 40)\n",
        "# test.__a # 오!? 접근이 가능하지 않네 => 오해입니다.\n",
        "test._a\n",
        "test._MyClass__a = 9000\n",
        "test._MyClass__c = 90000\n",
        "\n",
        "print(test._MyClass__a)\n",
        "print(test._MyClass__c)"
      ],
      "metadata": {
        "id": "WGvrtTPbm6qf"
      },
      "execution_count": null,
      "outputs": []
    },
    {
      "cell_type": "markdown",
      "source": [
        "#모듈"
      ],
      "metadata": {
        "id": "XD-eBNHzt3bH"
      }
    },
    {
      "cell_type": "code",
      "source": [
        "import i\n",
        "i.name\n",
        "i.hello()"
      ],
      "metadata": {
        "colab": {
          "base_uri": "https://localhost:8080/",
          "height": 35
        },
        "id": "O03Coi0Xt0Gh",
        "outputId": "e6aa167a-77bf-40c7-bae7-f935732fa79c"
      },
      "execution_count": null,
      "outputs": [
        {
          "output_type": "execute_result",
          "data": {
            "text/plain": [
              "'Hello'"
            ],
            "application/vnd.google.colaboratory.intrinsic+json": {
              "type": "string"
            }
          },
          "metadata": {},
          "execution_count": 2
        }
      ]
    },
    {
      "cell_type": "code",
      "source": [
        "from i import name,age\n",
        "print(name, age)"
      ],
      "metadata": {
        "colab": {
          "base_uri": "https://localhost:8080/"
        },
        "id": "5lHjMm1ht-P6",
        "outputId": "6b1caeec-b8bc-4439-eafc-35f75b75c67f"
      },
      "execution_count": null,
      "outputs": [
        {
          "output_type": "stream",
          "name": "stdout",
          "text": [
            "jk 10\n"
          ]
        }
      ]
    },
    {
      "cell_type": "code",
      "source": [
        "from i import name as n # 이렇게도 사용 가능하고\n",
        "\n",
        "print(n)"
      ],
      "metadata": {
        "colab": {
          "base_uri": "https://localhost:8080/"
        },
        "id": "HweYQ3XMuCwP",
        "outputId": "d33cbf9f-5814-42ec-9c5a-a69f76a3a98a"
      },
      "execution_count": null,
      "outputs": [
        {
          "output_type": "stream",
          "name": "stdout",
          "text": [
            "jk\n"
          ]
        }
      ]
    },
    {
      "cell_type": "code",
      "source": [
        "import i as j # 이렇게도 사용 가능합니다.\n",
        "\n",
        "j.name"
      ],
      "metadata": {
        "colab": {
          "base_uri": "https://localhost:8080/",
          "height": 35
        },
        "id": "Smt59onAuD7F",
        "outputId": "acdcdcae-c082-45ec-c980-95df959fc7f0"
      },
      "execution_count": null,
      "outputs": [
        {
          "output_type": "execute_result",
          "data": {
            "text/plain": [
              "'jk'"
            ],
            "application/vnd.google.colaboratory.intrinsic+json": {
              "type": "string"
            }
          },
          "metadata": {},
          "execution_count": 5
        }
      ]
    },
    {
      "cell_type": "markdown",
      "source": [
        "# 모듈 연습문제"
      ],
      "metadata": {
        "id": "rbGMBtuMuNVP"
      }
    },
    {
      "cell_type": "code",
      "source": [
        "# 아래와 같은 기능을 하는 모듈 또는 패키지를 만들어주세요.\n",
        "# 파일 또는 폴더로 만드셔야 합니다!\n",
        "# add(a, b), sub(a, b), mul(a, b), div(a, b)\n",
        "# _and(a, b), _or(a, b) # 다 하신 분 중 시간이 조금 남으신 분은 요것도 해보세요. :)"
      ],
      "metadata": {
        "id": "JLngw3DMuLxZ"
      },
      "execution_count": null,
      "outputs": []
    },
    {
      "cell_type": "code",
      "source": [
        "from operation import arithmetic_operation, logical_operation\n"
      ],
      "metadata": {
        "id": "9EA1Cv_TuO3e"
      },
      "execution_count": null,
      "outputs": []
    },
    {
      "cell_type": "code",
      "source": [
        "logical_operation._and(True,False)\n",
        "logical_operation._or(True,False)\n"
      ],
      "metadata": {
        "colab": {
          "base_uri": "https://localhost:8080/"
        },
        "id": "J2bCe-OBujnp",
        "outputId": "28d57bab-735b-4820-95eb-8d74adc42037"
      },
      "execution_count": null,
      "outputs": [
        {
          "output_type": "execute_result",
          "data": {
            "text/plain": [
              "True"
            ]
          },
          "metadata": {},
          "execution_count": 13
        }
      ]
    },
    {
      "cell_type": "code",
      "source": [
        "print(arithmetic_operation.add(3,4))\n",
        "print(arithmetic_operation.div(3,4))\n",
        "print(arithmetic_operation.sub(3,4))\n",
        "print(arithmetic_operation.mul(3,4))"
      ],
      "metadata": {
        "colab": {
          "base_uri": "https://localhost:8080/"
        },
        "id": "Up0l_7VRvFB_",
        "outputId": "8d80695c-a1e9-4294-a44e-113e35d6f019"
      },
      "execution_count": null,
      "outputs": [
        {
          "output_type": "stream",
          "name": "stdout",
          "text": [
            "7\n",
            "0.75\n",
            "-1\n",
            "12\n"
          ]
        }
      ]
    },
    {
      "cell_type": "code",
      "source": [
        "import datetime\n",
        "\n",
        "datetime.datetime(2023, 9, 8)"
      ],
      "metadata": {
        "id": "pEzImxQivcVL",
        "outputId": "1b5977e3-3a7b-437f-e51e-98af557b4a82",
        "colab": {
          "base_uri": "https://localhost:8080/"
        }
      },
      "execution_count": null,
      "outputs": [
        {
          "output_type": "execute_result",
          "data": {
            "text/plain": [
              "datetime.datetime(2023, 9, 8, 0, 0)"
            ]
          },
          "metadata": {},
          "execution_count": 19
        }
      ]
    },
    {
      "cell_type": "markdown",
      "source": [
        "#부록- 많이 사용하는 모듈"
      ],
      "metadata": {
        "id": "KY18SwSLvx6u"
      }
    },
    {
      "cell_type": "code",
      "source": [
        "import glob\n",
        "\n",
        "glob.glob('/content/*.py')\n",
        "glob.glob('./*/*.py')\n",
        "glob.glob('./???.py')\n",
        "glob.glob('./ju??.py')\n",
        "glob.glob('*.py')"
      ],
      "metadata": {
        "colab": {
          "base_uri": "https://localhost:8080/"
        },
        "id": "ulAt0Z0dvmgM",
        "outputId": "bc7ecfb2-7f4b-4c82-b30d-613624407fa5"
      },
      "execution_count": null,
      "outputs": [
        {
          "output_type": "execute_result",
          "data": {
            "text/plain": [
              "[]"
            ]
          },
          "metadata": {},
          "execution_count": 4
        }
      ]
    },
    {
      "cell_type": "code",
      "source": [
        "import os\n",
        "\n",
        "os.getcwd()\n",
        "# glob라는 모듈이 폴더 찾고, 파일찾고 하는 것에는 더 좋습니다."
      ],
      "metadata": {
        "colab": {
          "base_uri": "https://localhost:8080/",
          "height": 35
        },
        "id": "BTakOyCZMdfy",
        "outputId": "50542f32-4b06-47e5-fcd8-655c102ab694"
      },
      "execution_count": null,
      "outputs": [
        {
          "output_type": "execute_result",
          "data": {
            "text/plain": [
              "'/content'"
            ],
            "application/vnd.google.colaboratory.intrinsic+json": {
              "type": "string"
            }
          },
          "metadata": {},
          "execution_count": 3
        }
      ]
    },
    {
      "cell_type": "code",
      "source": [
        "import sys\n",
        "\n",
        "a = [1, 2, 3]\n",
        "b = a\n",
        "c = a\n",
        "# sys.getsizeof()\n",
        "# sys.path\n",
        "sys.getrefcount(a)"
      ],
      "metadata": {
        "colab": {
          "base_uri": "https://localhost:8080/"
        },
        "id": "YRP7TBkfTHcA",
        "outputId": "375e0d1a-1f17-4800-c4c4-217b5cf56025"
      },
      "execution_count": null,
      "outputs": [
        {
          "output_type": "execute_result",
          "data": {
            "text/plain": [
              "4"
            ]
          },
          "metadata": {},
          "execution_count": 5
        }
      ]
    },
    {
      "cell_type": "code",
      "source": [
        "import datetime\n",
        "\n",
        "today = datetime.datetime.combine(datetime.date.today(), datetime.datetime.min.time())\n",
        "type(today)"
      ],
      "metadata": {
        "colab": {
          "base_uri": "https://localhost:8080/"
        },
        "id": "_KH5wBi0TL_U",
        "outputId": "21f09a6e-8260-420a-9060-c2c80ffefbdc"
      },
      "execution_count": null,
      "outputs": [
        {
          "output_type": "execute_result",
          "data": {
            "text/plain": [
              "datetime.datetime"
            ]
          },
          "metadata": {},
          "execution_count": 8
        }
      ]
    },
    {
      "cell_type": "code",
      "source": [
        "import json\n",
        "\n",
        "d = {\n",
        "    'one': 1,\n",
        "    'two': 2,\n",
        "    'three': 3\n",
        "}\n",
        "\n",
        "s = json.dumps(d)\n",
        "type(s)\n",
        "s[:3]"
      ],
      "metadata": {
        "colab": {
          "base_uri": "https://localhost:8080/",
          "height": 35
        },
        "id": "6bu8EXFxTK-B",
        "outputId": "2f554a95-82c8-4c61-fc5a-b2f3ab8a14ff"
      },
      "execution_count": null,
      "outputs": [
        {
          "output_type": "execute_result",
          "data": {
            "text/plain": [
              "'{\"o'"
            ],
            "application/vnd.google.colaboratory.intrinsic+json": {
              "type": "string"
            }
          },
          "metadata": {},
          "execution_count": 10
        }
      ]
    },
    {
      "cell_type": "code",
      "source": [
        "import collections\n",
        "\n",
        "d = collections.deque([1, 2, 3, 4])\n",
        "d.rotate(1) # 회전초밥 문제\n",
        "d"
      ],
      "metadata": {
        "colab": {
          "base_uri": "https://localhost:8080/"
        },
        "id": "8t_1cyuVTSn-",
        "outputId": "9eca1138-6664-4f35-94b6-e88071329391"
      },
      "execution_count": null,
      "outputs": [
        {
          "output_type": "execute_result",
          "data": {
            "text/plain": [
              "deque([4, 1, 2, 3])"
            ]
          },
          "metadata": {},
          "execution_count": 13
        }
      ]
    },
    {
      "cell_type": "code",
      "source": [
        "# 지금부터 실습하는 것은 저 혼자만 하겠습니다.\n",
        "# 여러분은 이 코드만 가지고 있어주세요.\n",
        "import requests\n",
        "from bs4 import BeautifulSoup\n",
        "\n",
        "paullab_url = 'https://paullab.co.kr/bookservice/'\n",
        "response = requests.get(paullab_url)\n",
        "response.encoding = 'utf-8'\n",
        "html = response.text\n",
        "\n",
        "soup = BeautifulSoup(html, 'html.parser')\n",
        "\n",
        "bookservices = soup.select('.col-lg-6 > h2')     # col-lg-6 클래스 안의 h2 태그 탐색\n",
        "for no, book in enumerate(bookservices, 1):\n",
        "    print(no, book.text)"
      ],
      "metadata": {
        "colab": {
          "base_uri": "https://localhost:8080/"
        },
        "id": "R4THdSnnTTKd",
        "outputId": "9a7cc22b-88ce-40f9-fd2d-3f51981c15c1"
      },
      "execution_count": null,
      "outputs": [
        {
          "output_type": "stream",
          "name": "stdout",
          "text": [
            "1 메모혁신 Notion(노션) 활용 가이드\n",
            "2 제주코딩베이스캠프 Code Festival: Python 100제 1부\n",
            "3 튜토리얼로 배우는 HTML&CSS\n",
            "4 코딩도장 튜토리얼로 배우는 Python 1편 object\n",
            "5 코딩도장 튜토리얼로 배우는 python 2편 제어문\n",
            "6 코딩도장 튜토리얼로 배우는 Python 문제풀이\n",
            "7 타노스의 건틀릿 알고리즘 With Python\n",
            "8 xlsxwriter 튜토리얼로 배우는 Python 엑셀 프로그래밍\n",
            "9 러플 튜토리얼로 배우는 Python\n",
            "10 인공지능을 활용한 업무자동화 With Google Developers Group JEJU\n",
            "11 2017 제주 코딩 해커톤 Django 트랙 상편 1권\n"
          ]
        }
      ]
    },
    {
      "cell_type": "markdown",
      "source": [
        "#예외처리"
      ],
      "metadata": {
        "id": "xB4MtDLmTXog"
      }
    },
    {
      "cell_type": "code",
      "source": [
        "# SyntaxError\n",
        "# for i in range(10)\n",
        "#     print(i)\n",
        "if False:\n",
        "    raise SyntaxError\n",
        "if True:\n",
        "    raise SyntaxError('hello world') #여러분의 의도에 맞게 적절한 애러를 주실 필요가 있습니다."
      ],
      "metadata": {
        "colab": {
          "base_uri": "https://localhost:8080/",
          "height": 294
        },
        "id": "snilaPG8TZAb",
        "outputId": "43a5f4c7-bca7-4e60-d395-ec929dd9d3ac"
      },
      "execution_count": null,
      "outputs": [
        {
          "output_type": "error",
          "ename": "SyntaxError",
          "evalue": "ignored",
          "traceback": [
            "Traceback \u001b[0;36m(most recent call last)\u001b[0m:\n",
            "  File \u001b[1;32m\"/usr/local/lib/python3.10/dist-packages/IPython/core/interactiveshell.py\"\u001b[0m, line \u001b[1;32m3553\u001b[0m, in \u001b[1;35mrun_code\u001b[0m\n    exec(code_obj, self.user_global_ns, self.user_ns)\n",
            "\u001b[0;36m  File \u001b[0;32m\"<ipython-input-15-7146e396e4a9>\"\u001b[0;36m, line \u001b[0;32m7\u001b[0;36m, in \u001b[0;35m<cell line: 6>\u001b[0;36m\u001b[0m\n\u001b[0;31m    raise SyntaxError('hello world') #여러분의 의도에 맞게 적절한 애러를 주실 필요가 있습니다.\u001b[0m\n",
            "\u001b[0;36m  File \u001b[0;32m\"<string>\"\u001b[0;36m, line \u001b[0;32munknown\u001b[0m\n\u001b[0;31mSyntaxError\u001b[0m\u001b[0;31m:\u001b[0m hello world\n"
          ]
        }
      ]
    },
    {
      "cell_type": "code",
      "source": [
        "def f():\n",
        "    return True\n",
        "\n",
        "def ff():\n",
        "    return 1/0\n",
        "\n",
        "f() or ff()"
      ],
      "metadata": {
        "colab": {
          "base_uri": "https://localhost:8080/"
        },
        "id": "syYxna2JTZ-2",
        "outputId": "0fd04274-09ce-4c46-fe24-cc9988a0266d"
      },
      "execution_count": null,
      "outputs": [
        {
          "output_type": "execute_result",
          "data": {
            "text/plain": [
              "True"
            ]
          },
          "metadata": {},
          "execution_count": 16
        }
      ]
    },
    {
      "cell_type": "code",
      "source": [
        "def add(x, y, *args):\n",
        "    print(x, y, args)\n",
        "    return x + y\n",
        "\n",
        "add(1, 2, 3, 4, 5, 6, 7, 8, 9, 10)"
      ],
      "metadata": {
        "colab": {
          "base_uri": "https://localhost:8080/"
        },
        "id": "LD6lGgnRTb8f",
        "outputId": "9edf2b3d-573c-4ec9-dd70-9986ec12b345"
      },
      "execution_count": null,
      "outputs": [
        {
          "output_type": "stream",
          "name": "stdout",
          "text": [
            "1 2 (3, 4, 5, 6, 7, 8, 9, 10)\n"
          ]
        },
        {
          "output_type": "execute_result",
          "data": {
            "text/plain": [
              "3"
            ]
          },
          "metadata": {},
          "execution_count": 17
        }
      ]
    },
    {
      "cell_type": "code",
      "source": [
        "import logging\n",
        "\n",
        "logging.basicConfig(level=logging.INFO) # 어느 레벨부터 로깅할지, 기본으로 warning 부터 합니다.\n",
        "\n",
        "logging.debug(\"This is a debug message\") # 고쳐야 할 코드, 기록 필요\n",
        "logging.info(\"This is an info message\") # 정보성 메시지\n",
        "logging.warning(\"This is a warning message\") # 경고 메시지\n",
        "logging.error(\"This is an error message\") # 애러 메시지(프로그램은 동작)\n",
        "logging.critical(\"This is a critical message\") # 프로그램 중지(애러처리 안된경우)"
      ],
      "metadata": {
        "colab": {
          "base_uri": "https://localhost:8080/"
        },
        "id": "lp0qXl-kTfhQ",
        "outputId": "c9d29eca-2e39-4eef-98cf-518340232b3f"
      },
      "execution_count": null,
      "outputs": [
        {
          "output_type": "stream",
          "name": "stderr",
          "text": [
            "WARNING:root:This is a warning message\n",
            "ERROR:root:This is an error message\n",
            "CRITICAL:root:This is a critical message\n"
          ]
        }
      ]
    },
    {
      "cell_type": "code",
      "source": [
        "import logging.handlers\n",
        "\n",
        "def logger():\n",
        "    log_obj = logging.getLogger(\"log_name\") # log name으로 log 객체 생성\n",
        "    log_obj.setLevel(logging.ERROR) # 어디부터 기록할지 설정\n",
        "\n",
        "    fileHandeler = logging.FileHandler(filename=\"./test.txt\") # 파일로 기록\n",
        "    # streamHandler = logging.StreamHandler() # 콘솔에 출력\n",
        "\n",
        "    fileHandeler.setLevel(logging.ERROR) # 파일 기록 레벨 설정\n",
        "    # streamHandler.setLevel(logging.DEBUG) # 콘솔 기록 레벨 설정\n",
        "\n",
        "    formatter = logging.Formatter(\"%(name)s, %(asctime)s, %(levelname)s, %(message)s\") #포멧 생성\n",
        "\n",
        "    fileHandeler.setFormatter(formatter) # 파일 메시지 포멧 설정\n",
        "    # streamHandler.setFormatter(formatter) # 콘솔 메시지 포멧 설정\n",
        "\n",
        "    log_obj.addHandler(fileHandeler) # log_obj handler에 파일 출력 방식 추가\n",
        "    # log_obj.addHandler(streamHandler) # log_obj handler에 파일 콘솔 방식 추가\n",
        "\n",
        "    return log_obj\n",
        "\n",
        "log = logger()\n",
        "\n",
        "# 아래 코드를 기록하고 싶은 곳에 함께 설정\n",
        "log.debug('debug')\n",
        "log.info('info')\n",
        "log.warning('warning')\n",
        "log.error('error')\n",
        "log.critical('critical')\n",
        "\n",
        "print('---')\n",
        "\n",
        "# 아래와 같이 사용합니다.\n",
        "def f():\n",
        "    try:\n",
        "        x = 1 / 0\n",
        "    except Exception as e:\n",
        "        print(e)\n",
        "        log.error(f'{e} error')\n",
        "\n",
        "f()"
      ],
      "metadata": {
        "colab": {
          "base_uri": "https://localhost:8080/"
        },
        "id": "Er6vVS0iTid4",
        "outputId": "e98de523-804d-4426-e5ff-4584b60ab175"
      },
      "execution_count": null,
      "outputs": [
        {
          "output_type": "stream",
          "name": "stderr",
          "text": [
            "ERROR:log_name:error\n",
            "CRITICAL:log_name:critical\n",
            "ERROR:log_name:division by zero error\n"
          ]
        },
        {
          "output_type": "stream",
          "name": "stdout",
          "text": [
            "---\n",
            "division by zero\n"
          ]
        }
      ]
    },
    {
      "cell_type": "code",
      "source": [],
      "metadata": {
        "id": "2t0qthhRTj0Z"
      },
      "execution_count": null,
      "outputs": []
    }
  ]
}