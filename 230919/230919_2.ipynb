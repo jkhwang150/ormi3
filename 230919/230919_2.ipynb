{
  "nbformat": 4,
  "nbformat_minor": 0,
  "metadata": {
    "colab": {
      "provenance": []
    },
    "kernelspec": {
      "name": "python3",
      "display_name": "Python 3"
    },
    "language_info": {
      "name": "python"
    }
  },
  "cells": [
    {
      "cell_type": "code",
      "execution_count": null,
      "metadata": {
        "id": "bR1xY8YgS08q"
      },
      "outputs": [],
      "source": [
        "# 문제1(라운지 쓰레드)\n",
        "# 두 수를 나누는 함수 div(a, b)가 있었을 때\n",
        "# b에 0이 입력되면 예외처리를 하여 정상작동이 되는 함수로 작성을 해주세요.\n",
        "\n",
        "def div(a,b):\n",
        "    return a/b\n",
        "\n",
        "try:\n",
        "    a = int(input('a :'))\n",
        "    b = int(input('b : '))\n",
        "    div(a,b)\n",
        "    print(div(a,b))\n",
        "except:\n",
        "    print('나눌 수 없는 수 들입니다.')"
      ]
    },
    {
      "cell_type": "code",
      "source": [
        "# 문제2(class 쓰레드)\n",
        "# 하나의 숫자에 제곱근을 구하는 함수 sqrt_number(num)이 있었을 때\n",
        "# 자체 예외 NegativeNumberError를 정의하세요. 이 예외는 음수가 입력될 때 발생하도록 합니다.\n",
        "# 사용자로부터 숫자를 입력 받아 그 숫자의 제곱근을 반환하는 함수를 작성하세요.\n",
        "# 입력된 숫자가 음수이면 NegativeNumberError를 발생시키고\n",
        "# \"음수의 제곱근은 계산할 수 없습니다.\"라는 메시지를 출력하세요.\n",
        "\n",
        "def sqrt(a):\n",
        "    return a**(1/2)\n",
        "\n",
        "try:\n",
        "    Num = int(input('숫자를 입력해주세요. : '))\n",
        "    if Num < 0:\n",
        "        raise ValueError('NegativeNumberError')\n",
        "    else:\n",
        "        print(sqrt(Num))\n",
        "except:\n",
        "    print('음수의 제곱근은 계산할 수 없습니다.')"
      ],
      "metadata": {
        "colab": {
          "base_uri": "https://localhost:8080/"
        },
        "id": "xZmSMHohS6Ml",
        "outputId": "da1c4009-8e36-4d90-d756-e6be0e66f800"
      },
      "execution_count": 2,
      "outputs": [
        {
          "output_type": "stream",
          "name": "stdout",
          "text": [
            "숫자를 입력해주세요. : 3\n",
            "1.7320508075688772\n"
          ]
        }
      ]
    },
    {
      "cell_type": "code",
      "source": [
        "# 문제3(class 쓰레드)\n",
        "# 사용자로부터 인덱스 값을 입력 받아서 리스트 [\"apple\", \"banana\", \"cherry\"]에서\n",
        "# 해당 인덱스의 값을 출력하는 함수를 작성하세요.\n",
        "# 사용자가 범위를 벗어난 인덱스를 입력하면 \"리스트의 범위를 벗어났습니다.\"라는 메시지를 출력하세요.\n",
        "\n",
        "def Index_print(list, user_input):\n",
        "    if -(len(list))<= user_input< len(list):\n",
        "        return list[user_input]\n",
        "    return print('리스트의 범위를 벗어났습니다.')\n",
        "fruit = [\"apple\", \"banana\", \"cherry\"]\n",
        "\n",
        "user = int(input('인덱스를 입력해주세요. : '))\n",
        "Index_print(fruit,user)\n"
      ],
      "metadata": {
        "colab": {
          "base_uri": "https://localhost:8080/"
        },
        "id": "RrVqpvBeS9Tu",
        "outputId": "4b7b7217-4a71-4e27-c2cf-444a4f4d8e54"
      },
      "execution_count": 1,
      "outputs": [
        {
          "output_type": "stream",
          "name": "stdout",
          "text": [
            "인덱스를 입력해주세요. : 21\n",
            "리스트의 범위를 벗어났습니다.\n"
          ]
        }
      ]
    }
  ]
}