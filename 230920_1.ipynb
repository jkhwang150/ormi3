{
  "nbformat": 4,
  "nbformat_minor": 0,
  "metadata": {
    "colab": {
      "provenance": []
    },
    "kernelspec": {
      "name": "python3",
      "display_name": "Python 3"
    },
    "language_info": {
      "name": "python"
    }
  },
  "cells": [
    {
      "cell_type": "markdown",
      "source": [
        "#일급함수와 고차함수"
      ],
      "metadata": {
        "id": "GBW6-CUF7ee5"
      }
    },
    {
      "cell_type": "code",
      "execution_count": null,
      "metadata": {
        "colab": {
          "base_uri": "https://localhost:8080/"
        },
        "id": "n2mKjfov7MHm",
        "outputId": "365d4913-87de-4012-e9fd-091075ae424d"
      },
      "outputs": [
        {
          "output_type": "stream",
          "name": "stdout",
          "text": [
            "냐옹\n"
          ]
        }
      ],
      "source": [
        "class Cat:\n",
        "    def sound(self):\n",
        "        print('냐옹')\n",
        "\n",
        "licat = Cat()\n",
        "licat_sound = licat.sound\n",
        "licat_sound() # licat.sound()"
      ]
    },
    {
      "cell_type": "code",
      "source": [
        "l = [10, 20, 30]\n",
        "la = l.append\n",
        "la(40) # l.append\n",
        "l"
      ],
      "metadata": {
        "colab": {
          "base_uri": "https://localhost:8080/"
        },
        "id": "pRuOh3oz7mTO",
        "outputId": "f903f4c3-5aca-4560-d2e4-c9f36a655b1c"
      },
      "execution_count": null,
      "outputs": [
        {
          "output_type": "execute_result",
          "data": {
            "text/plain": [
              "[10, 20, 30, 40]"
            ]
          },
          "metadata": {},
          "execution_count": 2
        }
      ]
    },
    {
      "cell_type": "code",
      "source": [
        "# 변수로 관리가 가능하다\n",
        "def add(x, y):\n",
        "    return x + y\n",
        "\n",
        "def subtract(x, y):\n",
        "    return x - y\n",
        "\n",
        "funcs = [add, subtract]\n",
        "print(funcs[0](2, 3))  # 출력: 5"
      ],
      "metadata": {
        "colab": {
          "base_uri": "https://localhost:8080/"
        },
        "id": "5ZHv7pf_82JP",
        "outputId": "67f8191c-6145-485f-ccfb-3c6d0a976582"
      },
      "execution_count": null,
      "outputs": [
        {
          "output_type": "stream",
          "name": "stdout",
          "text": [
            "5\n"
          ]
        }
      ]
    },
    {
      "cell_type": "code",
      "source": [
        "class Operator:\n",
        "    def add(self, x, y):\n",
        "        pass\n",
        "\n",
        "    def sub(self, x, y):\n",
        "        pass\n",
        "\n",
        "    def mul(self, x, y):\n",
        "        pass\n",
        "\n",
        "    def div(self, x, y):\n",
        "        pass\n",
        "\n",
        "    def _and(self, x, y):\n",
        "        pass\n",
        "\n",
        "    def _or(self, x, y):\n",
        "        pass\n",
        "\n",
        "op = Operator()\n",
        "logical_operation = {\n",
        "    'add' : op.add,\n",
        "    'sub' : op.add,\n",
        "    'mul' : op.mul,\n",
        "    'div' : op.div,\n",
        "}\n",
        "arithmetic_operation = {\n",
        "    '_and' : op._and,\n",
        "    '_or' : op._or\n",
        "}\n",
        "\n",
        "funcs = [add, subtract]\n",
        "print(funcs[0](2, 3))  # 출력: 5"
      ],
      "metadata": {
        "colab": {
          "base_uri": "https://localhost:8080/"
        },
        "id": "s5gnnyfb84df",
        "outputId": "92cedf66-5d44-4d0e-edaa-bdc1599cad66"
      },
      "execution_count": null,
      "outputs": [
        {
          "output_type": "stream",
          "name": "stdout",
          "text": [
            "5\n"
          ]
        }
      ]
    },
    {
      "cell_type": "code",
      "source": [
        "def create_exponent(x):\n",
        "    def exponent(y):\n",
        "        return y ** x\n",
        "    return exponent\n",
        "\n",
        "exponent_2 = create_exponent(2) # exponent\n",
        "exponent_3 = create_exponent(3) # exponent\n",
        "print(exponent_2(10)) # 출력: 100\n",
        "# print(exponent(10)) => return y ** 2(이 숫자는 상수취급되어 변경시킬 수 없게 됩니다.)\n",
        "print(exponent_3(10)) # 출력: 1000\n",
        "# print(exponent(10)) => return y ** 3(이 숫자는 상수취급되어 변경시킬 수 없게 됩니다.)"
      ],
      "metadata": {
        "id": "XHmpcKjj-Iui",
        "colab": {
          "base_uri": "https://localhost:8080/"
        },
        "outputId": "13eaa517-7442-4343-fa20-04c7cb1020c0"
      },
      "execution_count": 11,
      "outputs": [
        {
          "output_type": "stream",
          "name": "stdout",
          "text": [
            "100\n",
            "1000\n"
          ]
        }
      ]
    },
    {
      "cell_type": "markdown",
      "source": [
        "#클로저"
      ],
      "metadata": {
        "id": "ZgbuZYyKZdcV"
      }
    },
    {
      "cell_type": "code",
      "source": [
        "# 고차함수이며, 일반적인 클로저의 형태는 아닙니다.\n",
        "# 보통 클로저는 outer_function에 은닉할 값을 매개변수로 넘겨줍니다.\n",
        "def outer_function():\n",
        "    def inner_function():\n",
        "        return 100 + 100\n",
        "    return inner_function\n",
        "\n",
        "# 클로저인 경우\n",
        "def outer_function(x):\n",
        "    def inner_function(y):\n",
        "        return x + y\n",
        "    return inner_function\n",
        "\n",
        "inner = outer_function(100)\n",
        "'''\n",
        "def inner(y):\n",
        "    return 100 + y\n",
        "inner(200)\n",
        "'''\n",
        "inner(200) # inner 입장에서 100을 변경할 수 있는 방법이 없습니다."
      ],
      "metadata": {
        "colab": {
          "base_uri": "https://localhost:8080/"
        },
        "id": "X1GhQkCyZcKx",
        "outputId": "dc072784-6c3f-4dca-84d1-0accfb5d8fa0"
      },
      "execution_count": 12,
      "outputs": [
        {
          "output_type": "execute_result",
          "data": {
            "text/plain": [
              "300"
            ]
          },
          "metadata": {},
          "execution_count": 12
        }
      ]
    },
    {
      "cell_type": "markdown",
      "source": [
        "#데코레이터"
      ],
      "metadata": {
        "id": "FyQBmCLmZhKE"
      }
    },
    {
      "cell_type": "code",
      "source": [
        "# 이런 식으로 우린 사용합니다.\n",
        "# login한 사용자만 게시판 읽도록\n",
        "# Django와 같은 프레임웤은 필요한 데코레이터는 미리 구현되어 있습니다.\n",
        "# 걱정하지 않으셔도 됩니다.\n",
        "def login(arg):\n",
        "    pass\n",
        "\n",
        "@login\n",
        "def 게시판읽기():\n",
        "    pass"
      ],
      "metadata": {
        "id": "ObhivA1lZgMl"
      },
      "execution_count": 13,
      "outputs": []
    },
    {
      "cell_type": "code",
      "source": [
        "def simple_decorator(function):\n",
        "    def wrapper():\n",
        "        print(\"Before the function call\")\n",
        "        function()\n",
        "        print(\"After the function call\")\n",
        "    return wrapper\n",
        "\n",
        "@simple_decorator\n",
        "def hello():\n",
        "    print(\"Hello, World!\")\n",
        "\n",
        "hello() # 데코레이터가 없는 상태에서는 simple_decorator(hello)() 와 같습니다."
      ],
      "metadata": {
        "colab": {
          "base_uri": "https://localhost:8080/"
        },
        "id": "MuMMI_13ZkC3",
        "outputId": "782401e9-53cb-41f3-f570-f9ecdff3f562"
      },
      "execution_count": 14,
      "outputs": [
        {
          "output_type": "stream",
          "name": "stdout",
          "text": [
            "Before the function call\n",
            "Hello, World!\n",
            "After the function call\n"
          ]
        }
      ]
    },
    {
      "cell_type": "code",
      "source": [
        "# step 1\n",
        "def data_Preprocessing(function):\n",
        "    def wrapper():\n",
        "        pass\n",
        "    return wrapper\n",
        "\n",
        "@data_Preprocessing\n",
        "def mean(data):\n",
        "    return sum(data)/len(data)\n",
        "\n",
        "mean([1, 2, '3', 4, '5']) # TypeError 발생"
      ],
      "metadata": {
        "id": "zYPf9ojmZmNH"
      },
      "execution_count": null,
      "outputs": []
    },
    {
      "cell_type": "code",
      "source": [
        "# step 2\n",
        "def data_Preprocessing(function):\n",
        "    def wrapper(data):\n",
        "        print(data)\n",
        "    return wrapper\n",
        "\n",
        "@data_Preprocessing\n",
        "def mean(data):\n",
        "    return sum(data)/len(data)\n",
        "\n",
        "mean([1, 2, '3', 4, '5']) # 데이터만 출력하고 함수는 None을 반환"
      ],
      "metadata": {
        "id": "q89YDZs5Zn_5"
      },
      "execution_count": null,
      "outputs": []
    },
    {
      "cell_type": "code",
      "source": [
        "# step 3\n",
        "def data_Preprocessing(function):\n",
        "    def wrapper(data):\n",
        "        return function(list(map(int, data)))\n",
        "    return wrapper\n",
        "\n",
        "@data_Preprocessing\n",
        "def mean(data):\n",
        "    return sum(data)/len(data)\n",
        "\n",
        "mean([1, 2, '3', 4, '5']) # 출력: 3.0 (정상 작동) # 데코레이터가 붙으면 mean을 실행하는 것이 아닙니다!\n",
        "\n",
        "# data_Preprocessing(mean) => wrapper\n",
        "# data_Preprocessing(mean)([1, 2, '3', 4, '5']) => wrapper([1, 2, '3', 4, '5'])"
      ],
      "metadata": {
        "id": "aD2jBpHKZp-s"
      },
      "execution_count": null,
      "outputs": []
    },
    {
      "cell_type": "code",
      "source": [
        "# step 3\n",
        "def data_Preprocessing(function):\n",
        "    def wrapper(a, b, c):\n",
        "        print(a, b, c)\n",
        "        # print(function([a, b, c]))\n",
        "    return wrapper\n",
        "\n",
        "@data_Preprocessing\n",
        "def mean(data):\n",
        "    return sum(data)/len(data)\n",
        "\n",
        "mean(10, 20, 30) # 왜 오류가 없을까요? data인자가 하나고, 10, 20, 30인자가 3개인데요?"
      ],
      "metadata": {
        "id": "8I0BMn_8Zq8b"
      },
      "execution_count": null,
      "outputs": []
    },
    {
      "cell_type": "markdown",
      "source": [
        "#lambda"
      ],
      "metadata": {
        "id": "Ylz1e1XGZ8Im"
      }
    },
    {
      "cell_type": "code",
      "source": [
        "square = lambda x: x*x\n",
        "print(square(5))  # 출력: 25"
      ],
      "metadata": {
        "id": "cSiMnVISZ9JE"
      },
      "execution_count": null,
      "outputs": []
    },
    {
      "cell_type": "code",
      "source": [
        "# 재사용되는 코드\n",
        "def 제곱(x):\n",
        "    return x ** 2\n",
        "\n",
        "list(map(제곱, [1, 2, 3])) + list(map(제곱, [4, 5, 6]))"
      ],
      "metadata": {
        "id": "XGoWUJ0rZ-rU"
      },
      "execution_count": null,
      "outputs": []
    },
    {
      "cell_type": "code",
      "source": [
        "# 재사용되지 않는 코드\n",
        "\n",
        "list(map(lambda x:x**2, [1, 2, 3]))"
      ],
      "metadata": {
        "id": "t4ee8u0FZ_sA"
      },
      "execution_count": null,
      "outputs": []
    },
    {
      "cell_type": "markdown",
      "source": [
        "# agrs, kagrs"
      ],
      "metadata": {
        "id": "zgtu6SEwyGB3"
      }
    },
    {
      "cell_type": "code",
      "source": [
        "a, b, *c = 10,20,30,40,50"
      ],
      "metadata": {
        "id": "AXJIYQNCyLOs"
      },
      "execution_count": 1,
      "outputs": []
    },
    {
      "cell_type": "code",
      "source": [
        "def print_args(a,b, *args):\n",
        "    print(args)\n",
        "    for x in args:\n",
        "        print(x)\n",
        "print_args(100,True,'Licat','hello',10)"
      ],
      "metadata": {
        "colab": {
          "base_uri": "https://localhost:8080/"
        },
        "id": "tI31BX06yOR9",
        "outputId": "85dd1441-320a-47b8-b8f3-3fc8569b480b"
      },
      "execution_count": 2,
      "outputs": [
        {
          "output_type": "stream",
          "name": "stdout",
          "text": [
            "('Licat', 'hello', 10)\n",
            "Licat\n",
            "hello\n",
            "10\n"
          ]
        }
      ]
    },
    {
      "cell_type": "code",
      "source": [
        "def print_kwargs(a, **kwargs):\n",
        "    print(a)\n",
        "    print(kwargs)\n",
        "    for i in kwargs:\n",
        "        print(i)\n",
        "\n",
        "print_kwargs(100, name='Licat', age='10')"
      ],
      "metadata": {
        "colab": {
          "base_uri": "https://localhost:8080/"
        },
        "id": "wCZvCzxLyfVK",
        "outputId": "dd305e85-b7e7-4c2c-9ce1-99415cb128b4"
      },
      "execution_count": 3,
      "outputs": [
        {
          "output_type": "stream",
          "name": "stdout",
          "text": [
            "100\n",
            "{'name': 'Licat', 'age': '10'}\n",
            "name\n",
            "age\n"
          ]
        }
      ]
    },
    {
      "cell_type": "code",
      "source": [
        "# 눈속임입니다.\n",
        "# *kwargs 이렇게 사용하시면 관습에 어긋납니다.\n",
        "def print_kwargs(*kwargs):\n",
        "    print(kwargs)\n",
        "    for i in kwargs:\n",
        "        print(i)\n",
        "\n",
        "value = {'one':10, 'two':20}\n",
        "print_kwargs(*value)"
      ],
      "metadata": {
        "id": "w2pJOcQjy4yt"
      },
      "execution_count": null,
      "outputs": []
    },
    {
      "cell_type": "markdown",
      "source": [
        "#*이터레이"
      ],
      "metadata": {
        "id": "UwAzdxj_aKSC"
      }
    },
    {
      "cell_type": "code",
      "source": [
        "class MyIterator:\n",
        "    def __init__(self, stop):\n",
        "        self.current_value = 0  # 현재 값\n",
        "        self.stop = stop  # 순회를 멈출 값\n",
        "\n",
        "    def __iter__(self):\n",
        "        return self\n",
        "\n",
        "    def __next__(self):\n",
        "        if self.current_value >= self.stop:\n",
        "            raise StopIteration\n",
        "        result = self.current_value\n",
        "        self.current_value += 1\n",
        "        return result\n",
        "\n",
        "my_iterator = MyIterator(5)\n",
        "\n",
        "for i in my_iterator:\n",
        "    print(i)\n",
        "\n",
        "'''\n",
        "for를 만나면 __iter__가 실행이 되고, 반복이 시작되면 __next__를 호출합니다.\n",
        "'''"
      ],
      "metadata": {
        "id": "iMwkYQw-Vks5"
      },
      "execution_count": null,
      "outputs": []
    },
    {
      "cell_type": "code",
      "source": [
        "class MyIterator:\n",
        "    def __init__(self, stop):\n",
        "        self.current_value = 0  # 현재 값\n",
        "        self.stop = stop  # 순회를 멈출 값\n",
        "\n",
        "    def __iter__(self):\n",
        "        return self\n",
        "\n",
        "    def __next__(self):\n",
        "        if self.current_value >= self.stop:\n",
        "            raise StopIteration\n",
        "        result = self.current_value\n",
        "        self.current_value += 1\n",
        "        return result\n",
        "\n",
        "my_iterator = MyIterator(5)\n",
        "\n",
        "for i in my_iterator:\n",
        "    print(i)\n",
        "\n",
        "for i in my_iterator:\n",
        "    print(i)"
      ],
      "metadata": {
        "id": "AHwE8vQiaNau"
      },
      "execution_count": null,
      "outputs": []
    },
    {
      "cell_type": "code",
      "source": [
        "class MyIterator:\n",
        "    def __init__(self, stop):\n",
        "        self.current_value = 0  # 현재 값\n",
        "        self.stop = stop  # 순회를 멈출 값\n",
        "\n",
        "    def __iter__(self):\n",
        "        return self\n",
        "\n",
        "    def __next__(self):\n",
        "        if self.current_value >= self.stop:\n",
        "            raise StopIteration\n",
        "        result = self.current_value\n",
        "        self.current_value += 1\n",
        "        return result\n",
        "\n",
        "my_iterator = MyIterator(5)\n",
        "\n",
        "for i in my_iterator:\n",
        "    print(i)\n",
        "\n",
        "for i in my_iterator:\n",
        "    print(i)"
      ],
      "metadata": {
        "id": "JFzuT_inaO45"
      },
      "execution_count": null,
      "outputs": []
    },
    {
      "cell_type": "code",
      "source": [
        "class MyIterator:\n",
        "    def __init__(self, stop):\n",
        "        self.stop = stop  # 순회를 멈출 값\n",
        "\n",
        "    def __iter__(self):\n",
        "        self.current_value = 0  # 현재 값\n",
        "        return self\n",
        "\n",
        "    def __next__(self):\n",
        "        if self.current_value >= self.stop:\n",
        "            raise StopIteration\n",
        "        result = self.current_value\n",
        "        self.current_value += 1\n",
        "        return result\n",
        "\n",
        "my_iterator = MyIterator(5)\n",
        "\n",
        "for i in my_iterator:\n",
        "    print(i)\n",
        "\n",
        "for i in my_iterator:\n",
        "    print(i)"
      ],
      "metadata": {
        "id": "I2ICPoOWaPyc"
      },
      "execution_count": null,
      "outputs": []
    },
    {
      "cell_type": "markdown",
      "source": [
        "#제너레이"
      ],
      "metadata": {
        "id": "dpbuvl0waZdW"
      }
    },
    {
      "cell_type": "code",
      "source": [
        "def my_generator():\n",
        "    count = 0\n",
        "    while True:\n",
        "        yield count\n",
        "        count += 2\n",
        "print(list(zip(['A', 'B', 'C'], my_generator())))\n",
        "print(list(zip(['A', 'B', 'C'], my_generator())))\n",
        "# 여기서는 6을 호출해야 하지 않을까요? 왜 다시 초기화가 되었죠?"
      ],
      "metadata": {
        "id": "dsIFe44GaSVJ"
      },
      "execution_count": null,
      "outputs": []
    },
    {
      "cell_type": "code",
      "source": [
        "def my_generator():\n",
        "    count = 0\n",
        "    while True:\n",
        "        yield count\n",
        "        count += 2\n",
        "list(zip([1, 2, 3, 4, 5, 6, 7, 8, 9], 'hello world', my_generator())) # 마치 enumerate처럼"
      ],
      "metadata": {
        "id": "0mua_ba-aVBc"
      },
      "execution_count": null,
      "outputs": []
    },
    {
      "cell_type": "markdown",
      "source": [
        "#nonlocal"
      ],
      "metadata": {
        "id": "sfFRWZ4uaeH4"
      }
    },
    {
      "cell_type": "code",
      "source": [
        "x = 100\n",
        "def outer():\n",
        "    x = 1\n",
        "    def inner():\n",
        "        nonlocal x\n",
        "        x += 1\n",
        "        print(x) # 출력: 2\n",
        "    inner()\n",
        "    print(x) # 출력: 2\n",
        "\n",
        "outer()\n",
        "print(x) # 출력: 100"
      ],
      "metadata": {
        "id": "0ODzCh5cafhY"
      },
      "execution_count": null,
      "outputs": []
    },
    {
      "cell_type": "code",
      "source": [
        "x = 100\n",
        "def outer():\n",
        "    x = 1\n",
        "    def inner():\n",
        "        global x\n",
        "        x += 1\n",
        "        print(x) # 출력: 101\n",
        "    inner()\n",
        "    print(x) # 출력: 1\n",
        "\n",
        "outer()\n",
        "print(x) # 출력: 101"
      ],
      "metadata": {
        "id": "u8CoMVzZag4L"
      },
      "execution_count": null,
      "outputs": []
    }
  ]
}