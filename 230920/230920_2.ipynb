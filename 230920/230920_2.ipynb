{
  "nbformat": 4,
  "nbformat_minor": 0,
  "metadata": {
    "colab": {
      "provenance": []
    },
    "kernelspec": {
      "name": "python3",
      "display_name": "Python 3"
    },
    "language_info": {
      "name": "python"
    }
  },
  "cells": [
    {
      "cell_type": "code",
      "execution_count": null,
      "metadata": {
        "id": "WuV19fFqVoSM"
      },
      "outputs": [],
      "source": [
        "# 일급함수 연습문제\n",
        "def square(a):\n",
        "    return a*a\n",
        "def root(a):\n",
        "    return a**(1/2)\n",
        "\n",
        "def length(a,b,square,root):\n",
        "        return root(square(a)+square(b))\n",
        "\n",
        "a = length(3,4,square,root)\n",
        "a\n"
      ]
    },
    {
      "cell_type": "code",
      "source": [
        "# 제너레이터 연습문\n",
        "# 회전초밥집에 들어갔습니다. 초밥은 아래와 같은 양식으로 나옵니다.\n",
        "# [['광어초밥', 1000], ['연어초밥', 2000], ['계란초밥', 3000]]\n",
        "# * 각 초밥은 몇 개 나올지 알 수 없습니다.\n",
        "# * 각 초밥은 1000원씩 비싸집니다.\n",
        "# * 초밥에 '어'가 나오는 초밥만 먹습니다.\n",
        "# * 선택사항: 제너레이터를 사용해주세요!\n",
        "# 내가 먹은 초밥의 비용을 계산하는 코드를 작성해 주세요.\n",
        "\n",
        "def solution(data):\n",
        "    for i in data:\n",
        "        if '어' in i[0]:\n",
        "            yield i[1]\n",
        "\n",
        "\n",
        "total = 0\n",
        "customer = [['광어초밥', 1000], ['연어초밥', 2000], ['계란초밥', 3000], ['문어초밥', 4000], ['장어초밥', 5000]]\n",
        "for j in solution(customer):\n",
        "    total += j\n",
        "total"
      ],
      "metadata": {
        "id": "4UxNM2ooZ6sg"
      },
      "execution_count": null,
      "outputs": []
    },
    {
      "cell_type": "code",
      "source": [
        "# 문제1\n",
        "# 다음과 같이 동작하는 제너레이터 함수 fibonacci(n)를 완성하세요.\n",
        "# 주어진 숫자 n까지의 피보나치 수열을 반환합니다.\n",
        "# 인터넷에서 피보나치 순열 Python 코드를 검색해보셔도 좋습니다.\n",
        "\n",
        "def fib(n):\n",
        "    if n == 0:\n",
        "        return 0\n",
        "    elif n ==1 or n ==2:\n",
        "        return 1\n",
        "    else:\n",
        "        yield n\n",
        "        n = (n-1) + (n-2)\n",
        "\n",
        "for i in fib(5):\n",
        "    print(i)\n",
        "\n",
        "'''\n",
        "출력\n",
        "1\n",
        "1\n",
        "2\n",
        "3\n",
        "5\n",
        "'''\n"
      ],
      "metadata": {
        "colab": {
          "base_uri": "https://localhost:8080/",
          "height": 54
        },
        "id": "NA2McclMdSoC",
        "outputId": "114234cf-4538-4ea4-ae5e-bb93ed158eb0"
      },
      "execution_count": 15,
      "outputs": [
        {
          "output_type": "stream",
          "name": "stdout",
          "text": [
            "5\n"
          ]
        },
        {
          "output_type": "execute_result",
          "data": {
            "text/plain": [
              "'\\n출력\\n1\\n1\\n2\\n3\\n5\\n'"
            ],
            "application/vnd.google.colaboratory.intrinsic+json": {
              "type": "string"
            }
          },
          "metadata": {},
          "execution_count": 15
        }
      ]
    },
    {
      "cell_type": "code",
      "source": [
        "# 문제2\n",
        "# 주어진 함수의 실행 시간을 측정하여 출력하는 데코레이터 time_it를 작성하세요.\n",
        "# (힌트: time 모듈의 time() 함수를 사용하세요.)\n",
        "\n",
        "import time\n",
        "\n",
        "def elapsed(f):\n",
        "    def wrap(*args):\n",
        "        start_r = time.perf_counter()\n",
        "        start_p = time.process_time()\n",
        "        # 함수 실행\n",
        "        ret = f(*args)\n",
        "        end_r = time.perf_counter()\n",
        "        end_p = time.process_time()\n",
        "        elapsed_r = end_r - start_r\n",
        "        elapsed_p = end_p - start_p\n",
        "\n",
        "        print(f'{f.__name__} elapsed: {elapsed_r:.6f}sec (real) / {elapsed_p:.6f}sec (cpu)')\n",
        "        return ret\n",
        "    # 함수 객체를 return\n",
        "    return wrap\n",
        "@elapsed\n",
        "def fib(n):\n",
        "    if n == 0:\n",
        "        return 0\n",
        "    elif n ==1 or n ==2:\n",
        "        return 1\n",
        "    else:\n",
        "        yield n\n",
        "        n = (n-1) + (n-2)\n",
        "\n",
        "for i in fib(5):\n",
        "    print(i)"
      ],
      "metadata": {
        "colab": {
          "base_uri": "https://localhost:8080/"
        },
        "id": "92SvYgcqdVEr",
        "outputId": "4236b62f-1806-4295-cf43-0286ec076943"
      },
      "execution_count": 2,
      "outputs": [
        {
          "output_type": "stream",
          "name": "stdout",
          "text": [
            "fib elapsed: 0.000009sec (real) / 0.000005sec (cpu)\n",
            "5\n"
          ]
        }
      ]
    }
  ]
}
