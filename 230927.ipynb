{
  "nbformat": 4,
  "nbformat_minor": 0,
  "metadata": {
    "colab": {
      "provenance": []
    },
    "kernelspec": {
      "name": "python3",
      "display_name": "Python 3"
    },
    "language_info": {
      "name": "python"
    }
  },
  "cells": [
    {
      "cell_type": "markdown",
      "source": [
        "#트리"
      ],
      "metadata": {
        "id": "-pGXjUUM2PwY"
      }
    },
    {
      "cell_type": "code",
      "execution_count": null,
      "metadata": {
        "colab": {
          "base_uri": "https://localhost:8080/"
        },
        "id": "3HTD-KqS2NVn",
        "outputId": "622d98c7-422a-404e-ad53-f6703c9ab04a"
      },
      "outputs": [
        {
          "output_type": "stream",
          "name": "stdout",
          "text": [
            "1\n"
          ]
        }
      ],
      "source": [
        "# 간소화를 한 tree입니다.\n",
        "# linked list와 마찬가지로 완벽한 자료구조를 만드려면 시간이 걸립니다.\n",
        "class Node:\n",
        "    def __init__(self, value):\n",
        "        self.value = value\n",
        "        self.left = None\n",
        "        self.right = None\n",
        "\n",
        "\n",
        "class Tree:\n",
        "    def __init__(self, data):\n",
        "        init = Node(data)\n",
        "        self.root = init\n",
        "        self.count = 1\n",
        "\n",
        "    def __len__(self):\n",
        "        return self.count\n",
        "\n",
        "    def insert(self, data):\n",
        "        new_node = Node(data)\n",
        "        current_node = self.root\n",
        "        while current_node:\n",
        "            if data == current_node.value: # 같은 데이터 만나면 넣어주지 않습니다!\n",
        "                return\n",
        "            elif data < current_node.value:\n",
        "                if not current_node.left: # 왼쪽으로 갔더니 비어있는 경우!\n",
        "                    current_node.left = new_node\n",
        "                    self.count += 1\n",
        "                    return\n",
        "                current_node = current_node.left\n",
        "            elif data > current_node.value:\n",
        "                if not current_node.right: # 오른쪽으로 갔더니 비어있는 경우!\n",
        "                    current_node.right = new_node\n",
        "                    self.count += 1\n",
        "                    return\n",
        "                current_node = current_node.right\n",
        "\n",
        "    # 깊스너큐(깊이우선 탐색은 스택, 너비우선 탐색은 큐)\n",
        "    def DFS(self):\n",
        "        # 깊이우선탐색, DFS(Depth First Search)\n",
        "        # Stack 이용!\n",
        "        stack = [self.root]\n",
        "        current = None # 선언하지 않아도 됩니다. 이해를 돕기 위해 선언했습니다.\n",
        "        result = []\n",
        "        while stack:\n",
        "            current = stack.pop()\n",
        "            if current.right:\n",
        "                stack.append(current.right)\n",
        "            if current.left:\n",
        "                stack.append(current.left)\n",
        "            result.append(current.value)\n",
        "        return result\n",
        "\n",
        "    def BFS(self):\n",
        "        # 너비우선탐색, BFS(Breadth First Search)\n",
        "        # Queue 이용!\n",
        "        queue = [self.root]\n",
        "        current = None # 선언하지 않아도 됩니다. 이해를 돕기 위해 선언했습니다.\n",
        "        result = []\n",
        "        while queue:\n",
        "            current = queue.pop(0)\n",
        "            if current.right:\n",
        "                queue.append(current.right)\n",
        "            if current.left:\n",
        "                queue.append(current.left)\n",
        "            result.append(current.value)\n",
        "        return result\n",
        "\n",
        "tree = Tree(5)\n",
        "tree.insert(3)\n",
        "tree.insert(8)\n",
        "tree.insert(1)\n",
        "tree.insert(4)\n",
        "tree.insert(6)\n",
        "tree.insert(9)\n",
        "\n",
        "tree.root.value\n",
        "tree.root.left.value\n",
        "tree.root.right.value\n",
        "tree.root.right.left.value"
      ]
    },
    {
      "cell_type": "code",
      "source": [
        "# 자식이 여러명인 경우\n",
        "class Node:\n",
        "    def __init__(self, data):\n",
        "        self.data = data\n",
        "        self.child = [] # 또는 {}합니다.\n",
        "\n",
        "# 이렇게 만들기도 하는데 이런 경우는 거의 못봤습니다.\n",
        "class Child:\n",
        "    def __init__(self, *args):\n",
        "        self.data = args # 이렇게 하면 튜플이니 언패킹 해서 관리하는 것이 좋을 수 있습니다."
      ],
      "metadata": {
        "id": "KUbQhoEHHblV"
      },
      "execution_count": null,
      "outputs": []
    },
    {
      "cell_type": "markdown",
      "source": [
        "# 정렬 알고리즘"
      ],
      "metadata": {
        "id": "sOvg-gmcHdqs"
      }
    },
    {
      "cell_type": "code",
      "source": [
        "# 선택 정렬\n",
        "def 최솟값_인덱스_리턴_함수 (리스트):\n",
        "    최솟값인덱스 = 0\n",
        "    for 증가값 in range(0, len(리스트)):\n",
        "        if 리스트[증가값] < 리스트[최솟값인덱스]:\n",
        "            최솟값인덱스 = 증가값\n",
        "    return 최솟값인덱스\n",
        "\n",
        "def 선택정렬(리스트):\n",
        "    최종결과값 = []\n",
        "    while 리스트:\n",
        "        최솟값_인덱스_저장 = 최솟값_인덱스_리턴_함수(리스트)\n",
        "        최솟값 = 리스트.pop(최솟값_인덱스_저장)\n",
        "        최종결과값.append(최솟값)\n",
        "    return 최종결과값\n",
        "\n",
        "주어진리스트 = [199, 22, 33, 12, 32, 64, 72, 222, 233]\n",
        "\n",
        "print(선택정렬(주어진리스트))"
      ],
      "metadata": {
        "id": "to4jTtshHc8k"
      },
      "execution_count": null,
      "outputs": []
    },
    {
      "cell_type": "code",
      "source": [
        "def 삽입값이들어갈_인덱스 (결과값, 삽입값):\n",
        "    for 증가값 in range(0, len(결과값)):\n",
        "        if 삽입값 < 결과값[증가값]:\n",
        "            return 증가값\n",
        "    return len(결과값)\n",
        "\n",
        "def 삽입정렬(입력_리스트_하나):\n",
        "    결과값 = []\n",
        "    while 입력_리스트_하나:\n",
        "        삽입값 = 입력_리스트_하나.pop(0)\n",
        "        삽입값_인덱스 = 삽입값이들어갈_인덱스(결과값, 삽입값)\n",
        "        결과값.insert(삽입값_인덱스, 삽입값)\n",
        "    return 결과값\n",
        "\n",
        "주어진리스트 = [199, 22, 33, 12, 32, 64, 72, 222, 233]\n",
        "\n",
        "print(삽입정렬(주어진리스트))"
      ],
      "metadata": {
        "id": "NdeutsfrWkcS"
      },
      "execution_count": null,
      "outputs": []
    },
    {
      "cell_type": "code",
      "source": [
        "# 병합 정렬\n",
        "def 병합정렬(입력리스트):\n",
        "    입력리스트길이 = len(입력리스트)\n",
        "    if 입력리스트길이 <= 1:\n",
        "        return 입력리스트\n",
        "\n",
        "    중간값 = 입력리스트길이 // 2\n",
        "    그룹_하나 = 병합정렬(입력리스트[:중간값])\n",
        "    그룹_둘 = 병합정렬(입력리스트[중간값:])\n",
        "    결과값 = [ ]\n",
        "\n",
        "    while 그룹_하나 and 그룹_둘:\n",
        "        if 그룹_하나[0] < 그룹_둘[0]:\n",
        "            결과값.append(그룹_하나.pop(0))\n",
        "        else:\n",
        "            결과값.append(그룹_둘.pop(0))\n",
        "    while 그룹_하나:\n",
        "        결과값.append(그룹_하나.pop(0))\n",
        "    while 그룹_둘:\n",
        "        결과값.append(그룹_둘.pop(0))\n",
        "    return 결과값\n",
        "\n",
        "주어진리스트 = [199, 22, 33, 12, 32, 64, 72, 222, 233]\n",
        "\n",
        "print(병합정렬(주어진리스트))"
      ],
      "metadata": {
        "id": "mhphMPm4WnqZ"
      },
      "execution_count": null,
      "outputs": []
    },
    {
      "cell_type": "code",
      "source": [
        "# 퀵 정렬\n",
        "입력값 = [66, 77, 54, 32, 10, 5, 11, 15]\n",
        "\n",
        "# step 1\n",
        "# 피봇값 : 66\n",
        "[54, 32, 10, 5, 11, 15] + [66] + [77]\n",
        "\n",
        "# step 2\n",
        "# 피봇값 : 54 (66과 77은 값이 한 개이기 때문에 더이상 재귀로 호출되지 않음.)\n",
        "[32, 10, 5, 11, 15] + [54] + [66] + [77]\n",
        "\n",
        "# step 3\n",
        "# 피봇값 : 32\n",
        "[10, 5, 11, 15] + [32] + [54] + [66] + [77]\n",
        "\n",
        "# step 4\n",
        "# 피봇값 : 10\n",
        "[5] + [10] + [11, 15] + [32] + [54] + [66] + [77]\n",
        "\n",
        "# step 5\n",
        "# 피봇값 : 11\n",
        "[5] + [10] + [11] + [15] + [32] + [54] + [66] + [77]"
      ],
      "metadata": {
        "id": "4EJZInIfWt2B"
      },
      "execution_count": null,
      "outputs": []
    },
    {
      "cell_type": "code",
      "source": [
        "# 1회만 해봤습니다.\n",
        "def 퀵정렬([66, 77, 54, 32, 10, 5, 11, 15]):\n",
        "    입력리스트길이 = len(입력리스트)\n",
        "    if 입력리스트길이 <= 1:\n",
        "        return 입력리스트\n",
        "    기준값 = 15\n",
        "    그룹_하나 = [10, 5, 11]\n",
        "    그룹_둘 = [66, 77, 54, 32]\n",
        "    for 증가값 in range(0 , 입력리스트길이-1):\n",
        "        if 입력리스트[증가값] < 기준값:\n",
        "            그룹_하나.append(입력리스트[증가값])\n",
        "        else:\n",
        "            그룹_둘.append(입력리스트[증가값])\n",
        "    return 퀵정렬([10, 5, 11]) + [15] + 퀵정렬([66, 77, 54, 32])\n",
        "# 퀵정렬([10, 5, 11]) == 퀵정렬([10, 5]) + [11] == [5] + 퀵정렬(10) + [11] == [5, 10, 11]"
      ],
      "metadata": {
        "id": "SQjKPsSXWvnJ"
      },
      "execution_count": null,
      "outputs": []
    },
    {
      "cell_type": "markdown",
      "source": [
        "# 페이지 교체 알고리즘"
      ],
      "metadata": {
        "id": "5-Cs6gZEfKym"
      }
    },
    {
      "cell_type": "code",
      "source": [
        "# FIFO\n",
        "# 순서 : 0, 4, 6, 5, 4, 7, 8\n",
        "\n",
        "# [0] # 5\n",
        "# [0, 4] # 5\n",
        "# [0, 4, 6] # 5\n",
        "# [4, 6, 5] # 5\n",
        "# [4, 6, 5] # 1\n",
        "# [6, 5, 7] # 5\n",
        "# [6, 5, 8] # 5\n",
        "\n",
        "순서 = [0, 4, 6, 5, 4, 7, 8]\n",
        "c = []\n",
        "time = 0\n",
        "\n",
        "for i in 순서:\n",
        "    if i not in c:\n",
        "        time += 5\n",
        "        c.append(i)\n",
        "    else:\n",
        "        time += 1\n",
        "    if len(c) > 3:\n",
        "        c.pop(0)\n",
        "    print(c)\n",
        "\n",
        "time"
      ],
      "metadata": {
        "id": "_-nHGvunfI83"
      },
      "execution_count": null,
      "outputs": []
    },
    {
      "cell_type": "code",
      "source": [
        "# LRU\n",
        "# 순서 : 0, 4, 6, 5, 4, 7, 8\n",
        "\n",
        "# [0] # 5\n",
        "# [0, 4] # 5\n",
        "# [0, 4, 6] # 5\n",
        "# [4, 6, 5] # 5\n",
        "# [6, 5, 4] # 1\n",
        "# [5, 4, 7] # 5\n",
        "# [4, 7, 8] # 5\n",
        "\n",
        "순서 = [0, 4, 6, 5, 4, 7, 8]\n",
        "c = []\n",
        "time = 0\n",
        "\n",
        "for i in 순서:\n",
        "    if i not in c:\n",
        "        time += 5\n",
        "        c.append(i)\n",
        "    else:\n",
        "        c.remove(i)\n",
        "        c.append(i)\n",
        "        time += 1\n",
        "    if len(c) > 3:\n",
        "        c.pop(0)\n",
        "    print(c)\n",
        "\n",
        "time"
      ],
      "metadata": {
        "id": "lGAKRzyQn3J9"
      },
      "execution_count": null,
      "outputs": []
    },
    {
      "cell_type": "markdown",
      "source": [
        "# 투포인"
      ],
      "metadata": {
        "id": "sado82cUKeLn"
      }
    },
    {
      "cell_type": "code",
      "source": [
        "# 투포인터 문제\n",
        "def solution(데이터, 연속된합):\n",
        "\n",
        "    startPointer = 0\n",
        "    endPointer = 0\n",
        "    tempSum = 0\n",
        "\n",
        "    길이 = len(데이터)\n",
        "    result = []\n",
        "\n",
        "    for startPointer in range(길이):\n",
        "        while tempSum < 연속된합 and endPointer < 길이:\n",
        "            tempSum += 데이터[endPointer]\n",
        "            endPointer += 1\n",
        "        if tempSum == 연속된합:\n",
        "            result.append([startPointer, endPointer-1])\n",
        "        tempSum -= 데이터[startPointer]\n",
        "    return result\n",
        "\n",
        "solution([1, 5, 4, 6, 4, 6, 7, 6, 4, 3, 1, 2], 10)"
      ],
      "metadata": {
        "id": "Jk77ymafKdRy"
      },
      "execution_count": null,
      "outputs": []
    },
    {
      "cell_type": "code",
      "source": [],
      "metadata": {
        "id": "4dkTcMfaLBQ1"
      },
      "execution_count": null,
      "outputs": []
    },
    {
      "cell_type": "markdown",
      "source": [
        "# 알고리즘 풀이"
      ],
      "metadata": {
        "id": "Q_99vHr3IoQ9"
      }
    },
    {
      "cell_type": "code",
      "source": [
        "# 보물지도\n",
        "def solution(n, arr1, arr2):\n",
        "    answer = []\n",
        "    print(arr1[0] | arr2[0])\n",
        "    print(bin(arr1[0] | arr2[0])[2:].zfill(n).replace('1', '#').replace('0', ' '))\n",
        "    return answer\n",
        "\n",
        "n = 5\n",
        "arr1 = [9, 20, 28, 18, 11]\n",
        "arr2 = [30, 1, 21, 17, 28]\n",
        "\n",
        "solution(n, arr1, arr2)"
      ],
      "metadata": {
        "id": "hBhKqLKTK1ET"
      },
      "execution_count": null,
      "outputs": []
    },
    {
      "cell_type": "code",
      "source": [
        "# 보물지도\n",
        "def solution(n, arr1, arr2):\n",
        "    answer = []\n",
        "    for i, j in zip(arr1, arr2):\n",
        "        answer.append(bin(i | j)[2:].zfill(n).replace('1', '#').replace('0', ' '))\n",
        "    return answer\n",
        "\n",
        "n = 5\n",
        "arr1 = [9, 20, 28, 18, 11]\n",
        "arr2 = [30, 1, 21, 17, 28]\n",
        "\n",
        "solution(n, arr1, arr2)\n",
        "# [\"#####\",\"# # #\", \"### #\", \"#  ##\", \"#####\"]"
      ],
      "metadata": {
        "id": "vDvc8WpWK1bo"
      },
      "execution_count": null,
      "outputs": []
    },
    {
      "cell_type": "code",
      "source": [
        "# 정답\n",
        "도시이름 = ['Jeju', 'Pangyo', 'Seoul', 'NewYork', 'LA', 'Jeju', 'Pangyo', 'Seoul', 'NewYork', 'LA']\n",
        "\n",
        "def solution(cacheSize, cities):\n",
        "    cache = []\n",
        "    time = 0\n",
        "    for city in cities:\n",
        "        city = city.lower()\n",
        "        if city in cache:\n",
        "            time += 1\n",
        "            cache.remove(city)\n",
        "            cache.append(city)\n",
        "        else:\n",
        "            time += 5\n",
        "            cache.append(city)\n",
        "            if len(cache) > cacheSize:\n",
        "                cache.pop(0)\n",
        "\n",
        "    return time\n",
        "\n",
        "solution(3, [\"Jeju\", \"Pangyo\", \"Seoul\", \"Jeju\", \"Pangyo\", \"Seoul\", \"Jeju\", \"Pangyo\", \"Seoul\"])"
      ],
      "metadata": {
        "id": "hxWsRzlkInxp",
        "colab": {
          "base_uri": "https://localhost:8080/"
        },
        "outputId": "5c54ff33-01c5-41ab-a52e-fe92527c4c02"
      },
      "execution_count": 2,
      "outputs": [
        {
          "output_type": "execute_result",
          "data": {
            "text/plain": [
              "21"
            ]
          },
          "metadata": {},
          "execution_count": 2
        }
      ]
    },
    {
      "cell_type": "code",
      "source": [
        "# 오픈채팅방\n",
        "def solution(record):\n",
        "    userinfo = dict()\n",
        "    answer = []\n",
        "    info = [list(_.split()) for _ in record] # 공백 기준으로 분리하여 리스트에 저장\n",
        "    print(info)\n",
        "    for text in info:\n",
        "        if text[0] == 'Enter' or text[0] == 'Change': # 생성 혹은 변경\n",
        "            userinfo[text[1]] = text[2]\n",
        "    for text in info: # 출\n",
        "        if text[0] == 'Enter':\n",
        "            answer.append(userinfo[text[1]] + '님이 들어왔습니다.')\n",
        "        elif text[0] == 'Leave':\n",
        "            answer.append(userinfo[text[1]] + '님이 나갔습니다.')\n",
        "\n",
        "    print(userinfo)\n",
        "    return answer\n",
        "\n",
        "record = [\"Enter uid1234 Muzi\", \"Enter uid4567 Prodo\",\"Leave uid1234\",\"Enter uid1234 Prodo\",\"Change uid4567 Ryan\"]\n",
        "solution(record)"
      ],
      "metadata": {
        "colab": {
          "base_uri": "https://localhost:8080/"
        },
        "id": "l137F6bfKrYd",
        "outputId": "9536d495-6890-4263-f542-4052428b0dad"
      },
      "execution_count": null,
      "outputs": [
        {
          "output_type": "stream",
          "name": "stdout",
          "text": [
            "[['Enter', 'uid1234', 'Muzi'], ['Enter', 'uid4567', 'Prodo'], ['Leave', 'uid1234'], ['Enter', 'uid1234', 'Prodo'], ['Change', 'uid4567', 'Ryan']]\n",
            "{'uid1234': 'Prodo', 'uid4567': 'Ryan'}\n"
          ]
        },
        {
          "output_type": "execute_result",
          "data": {
            "text/plain": [
              "['Prodo님이 들어왔습니다.', 'Ryan님이 들어왔습니다.', 'Prodo님이 나갔습니다.', 'Prodo님이 들어왔습니다.']"
            ]
          },
          "metadata": {},
          "execution_count": 11
        }
      ]
    },
    {
      "cell_type": "code",
      "source": [
        "# 실패율\n",
        "from collections import Counter\n",
        "\n",
        "s = [2,1,2,6,2,4,3,3]\n",
        "length = len(s)\n",
        "s = Counter(s)\n",
        "s"
      ],
      "metadata": {
        "colab": {
          "base_uri": "https://localhost:8080/"
        },
        "id": "deZX3URvchXG",
        "outputId": "98cf0428-d232-45b0-e73f-c3e25d79f042"
      },
      "execution_count": null,
      "outputs": [
        {
          "output_type": "execute_result",
          "data": {
            "text/plain": [
              "Counter({2: 3, 1: 1, 6: 1, 4: 1, 3: 2})"
            ]
          },
          "metadata": {},
          "execution_count": 12
        }
      ]
    },
    {
      "cell_type": "code",
      "source": [
        "length\n",
        "s[1]\n",
        "s[2]\n",
        "s[1]/length\n",
        "length -= s[1]\n",
        "s[2]/length\n",
        "length -= s[2]\n",
        "s[3]/length"
      ],
      "metadata": {
        "colab": {
          "base_uri": "https://localhost:8080/"
        },
        "id": "4Rlt7kqwcrRN",
        "outputId": "68c408a6-e3ba-4349-db86-38b80dea9391"
      },
      "execution_count": null,
      "outputs": [
        {
          "output_type": "execute_result",
          "data": {
            "text/plain": [
              "-2.0"
            ]
          },
          "metadata": {},
          "execution_count": 18
        }
      ]
    },
    {
      "cell_type": "code",
      "source": [
        "from collections import Counter\n",
        "\n",
        "\n",
        "def solution(N: int, stages: list[int]):\n",
        "    players = len(stages)\n",
        "    answer = []\n",
        "    counter = Counter(stages)\n",
        "\n",
        "    for i in range(1, N + 1):\n",
        "        fail = counter[i]\n",
        "        print(f\"{fail} / {players}\")\n",
        "        answer.append((i, fail / players))\n",
        "        players -= fail\n",
        "\n",
        "    answer.sort(key=lambda x: x[1], reverse=True)\n",
        "    return list(map(lambda x: x[0], answer))\n",
        "\n",
        "\n",
        "print(solution(5, [2, 1, 2, 6, 2, 4, 3, 3]))"
      ],
      "metadata": {
        "colab": {
          "base_uri": "https://localhost:8080/"
        },
        "id": "TSojznghcykH",
        "outputId": "664449de-754a-48ee-c569-2fc755118d92"
      },
      "execution_count": 1,
      "outputs": [
        {
          "output_type": "stream",
          "name": "stdout",
          "text": [
            "1 / 8\n",
            "3 / 7\n",
            "2 / 4\n",
            "1 / 2\n",
            "0 / 1\n",
            "[3, 4, 2, 1, 5]\n"
          ]
        }
      ]
    },
    {
      "cell_type": "code",
      "source": [
        "# 옹알이(1)\n",
        ".\n",
        "def solution(babbling):\n",
        "    answer = 0\n",
        "\n",
        "    for i in babbling:\n",
        "        c = ['aya','ye','woo','ma']\n",
        "        cnt = 0\n",
        "        word = ''\n",
        "        for j in i:\n",
        "            word += j\n",
        "            if word in c: # 주어진 문자열이 포함된다면 해당 문자열을 삭제한다\n",
        "                c.remove(word) # 최대 한번 사용하라고 하였으므로 해당 단어를 제거한다.\n",
        "                word = ''\n",
        "                cnt +=1\n",
        "\n",
        "\n",
        "        if len(word) == 0 and cnt> 0:\n",
        "            answer+=1 # 길이가 0인 문자열을 카운트한다.\n",
        "\n",
        "    return answer\n"
      ],
      "metadata": {
        "id": "yTga8HXgk2LS"
      },
      "execution_count": null,
      "outputs": []
    },
    {
      "cell_type": "code",
      "source": [
        "# 진료순서 정하기\n",
        "def solution(emergency):\n",
        "    answer = []\n",
        "    sort_emergency = sorted(emergency,reverse=True)\n",
        "    for i in emergency:\n",
        "        answer.append(sort_emergency.index(i)+1)\n",
        "    return answer"
      ],
      "metadata": {
        "id": "5GO1qr42qu2r"
      },
      "execution_count": null,
      "outputs": []
    }
  ]
}