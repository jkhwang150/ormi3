{
  "nbformat": 4,
  "nbformat_minor": 0,
  "metadata": {
    "colab": {
      "provenance": []
    },
    "kernelspec": {
      "name": "python3",
      "display_name": "Python 3"
    },
    "language_info": {
      "name": "python"
    }
  },
  "cells": [
    {
      "cell_type": "markdown",
      "source": [
        "문제1 https://www.paullab.co.kr/stock.html 서비스를 크롤링하여 제주코딩베이스캠프 연구원의 2019년 10월 총 거래량을 구해주세요.\n",
        "\n",
        "문제2 html에서 태그를 제거하고 텍스트만 뽑아낼 수 있도록 해주세요.\n",
        "'<p>This is a <em>simple</em> example.</p>'\n",
        "\n",
        "문제3 아래 텍스트에서 이메일만 추출할 수 있는 정규표현식을 만들어주세요.\n",
        "'제 이메일 주소는 example1@gmail.com이고 회사 이메일 주소는 example2@gmail.com 입니다. example1로 연락을 주셨다면 제게 메시지 한 번 부탁드립니다.'"
      ],
      "metadata": {
        "id": "jegXepg6vFau"
      }
    },
    {
      "cell_type": "code",
      "source": [
        "import requests\n",
        "from bs4 import BeautifulSoup\n",
        "import re\n",
        "\n",
        "# 문제1 https://www.paullab.co.kr/stock.html 서비스를 크롤링하여 제주코딩베이스캠프 연구원의 2019년 10월 총 거래량을 구해주세요.\n",
        "\n",
        "request = requests.get('https://www.paullab.co.kr/stock.html')\n",
        "html = request.text\n",
        "soup = BeautifulSoup(html, 'html.parser')\n",
        "\n",
        "i = 1\n",
        "total = 0\n",
        "while True:\n",
        "    tr = soup.select('.main > table > tbody > tr')[i]\n",
        "    month = int(tr.select('td')[0].text.split('.')[1])\n",
        "    if month != 10:\n",
        "        break\n",
        "    sells = int(tr.select('td')[6].text.replace(',',''))\n",
        "    total += sells\n",
        "    i += 1\n",
        "total"
      ],
      "metadata": {
        "colab": {
          "base_uri": "https://localhost:8080/"
        },
        "id": "ciUkTGX6uTMa",
        "outputId": "4c617724-d0f6-4dfe-937e-b8ef735fb103"
      },
      "execution_count": 79,
      "outputs": [
        {
          "output_type": "execute_result",
          "data": {
            "text/plain": [
              "10895826"
            ]
          },
          "metadata": {},
          "execution_count": 79
        }
      ]
    },
    {
      "cell_type": "markdown",
      "source": [
        "[링크 텍스트](https://)"
      ],
      "metadata": {
        "id": "i2nHq7-G5sxu"
      }
    },
    {
      "cell_type": "code",
      "source": [
        "import re\n",
        "# 문제2 html에서 태그를 제거하고 텍스트만 뽑아낼 수 있도록 해주세요.\n",
        "# '<p>This is a <em>simple</em> example.</p>'\n",
        "\n",
        "s = '<p>This is a <em>simple</em> example.</p>'\n",
        "print(re.sub('<[a-z/]+>','',s))"
      ],
      "metadata": {
        "id": "oxmecVqLvrRC",
        "colab": {
          "base_uri": "https://localhost:8080/"
        },
        "outputId": "b875d463-f258-425a-85d9-98b5b21244fb"
      },
      "execution_count": 80,
      "outputs": [
        {
          "output_type": "stream",
          "name": "stdout",
          "text": [
            "This is a simple example.\n"
          ]
        }
      ]
    },
    {
      "cell_type": "code",
      "source": [
        "''' # 문제 3. 이메일 추출 정규식\n",
        "import re\n",
        "\n",
        "pattern = re.compile(r'([a-zA-Z0-9._%+-]+@[a-zA-Z0-9.-]+(\\.[a-zA-Z]{2,4}))')\n",
        "str =  '제 이메일 주소는 example1@gmail.com이고 회사 이메일 주소는 example2@gmail.com 입니다. example1로 연락을 주셨다면 제게 메시지 한 번 부탁드립니다.'\n",
        "\n",
        "match = []\n",
        "for i in pattern.findall(str):\n",
        "    match.append(i[0])\n",
        "match\n",
        " '''"
      ],
      "metadata": {
        "colab": {
          "base_uri": "https://localhost:8080/",
          "height": 108
        },
        "id": "6XZEsfmQvra-",
        "outputId": "1c049aa2-42e3-4a5a-a923-54fe39201e17"
      },
      "execution_count": null,
      "outputs": [
        {
          "output_type": "execute_result",
          "data": {
            "text/plain": [
              "\" # 문제 3. 이메일 추출 정규식\\nimport re \\n\\npattern = re.compile(r'([a-zA-Z0-9._%+-]+@[a-zA-Z0-9.-]+(\\\\.[a-zA-Z]{2,4}))')\\nstr =  '제 이메일 주소는 example1@gmail.com이고 회사 이메일 주소는 example2@gmail.com 입니다. example1로 연락을 주셨다면 제게 메시지 한 번 부탁드립니다.'\\n\\nmatch = []\\nfor i in pattern.findall(str):\\n    match.append(i[0])\\nmatch\\n \""
            ],
            "application/vnd.google.colaboratory.intrinsic+json": {
              "type": "string"
            }
          },
          "metadata": {},
          "execution_count": 44
        }
      ]
    }
  ]
}