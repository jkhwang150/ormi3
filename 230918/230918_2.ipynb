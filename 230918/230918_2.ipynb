{
  "nbformat": 4,
  "nbformat_minor": 0,
  "metadata": {
    "colab": {
      "provenance": []
    },
    "kernelspec": {
      "name": "python3",
      "display_name": "Python 3"
    },
    "language_info": {
      "name": "python"
    }
  },
  "cells": [
    {
      "cell_type": "markdown",
      "source": [
        "# 연습문제\n",
        "\n",
        "게임에서 케릭터를 구현할 예정입니다. 아래 클래스를 적절하게 조합하여 hero 인스턴스와 villain 인스턴스를 만들어주세요.\n",
        "* 명시된 class외 다른 클래스를 더 추가할 수 있습니다.\n",
        "* 안에 들어가는 멤버나 메서드는 자유롭게 작성할 수 있습니다.\n",
        "\n",
        "1. class Body(능력치)\n",
        "2. class Weapon(무기)\n",
        "3. class WeaponEnhancement(무기강화)\n",
        "4. class Skill(기술)\n",
        "5. class Equipment(장비)\n",
        "6. class Role(히어로인지, 빌런인지, 몹인지)\n"
      ],
      "metadata": {
        "id": "Y4KM6w1IVOeN"
      }
    },
    {
      "cell_type": "code",
      "execution_count": 29,
      "metadata": {
        "id": "lzXjut6FU0m-"
      },
      "outputs": [],
      "source": [
        "class Skill: # 캐릭터의 스킬\n",
        "    def attack(self):\n",
        "        return '기본 공격'\n",
        "    def kick(self):\n",
        "        return '발차기'\n",
        "    def throw(self):\n",
        "        return '던지기'\n",
        "\n",
        "class Role: # 캐릭터의 역할\n",
        "    def setRole(self,role):\n",
        "        self.role = role\n",
        "\n",
        "class Weapon: # 캐릭터의 무기 공격력\n",
        "    def setDamage(self,damage):\n",
        "        self.damage = damage\n",
        "\n",
        "\n",
        "class WeaponEnhancement(Weapon): # 무기 강화\n",
        "    def Enhance(self,abi):\n",
        "        if abi == True:\n",
        "            self.damage +=5\n",
        "            return '강화되었습니다.'\n",
        "        else:\n",
        "            self.damage -=5\n",
        "            return '실패하였습니다.'\n",
        "\n",
        "class Equipment(WeaponEnhancement): # 현재 무기 공격력\n",
        "    def Equip(self,damage):\n",
        "        self.damage = damage\n",
        "\n",
        "class Body(Role, Skill, Equipment):\n",
        "    def __init__(self,role,hp,mp,power):\n",
        "        self.setRole(role)"
      ]
    },
    {
      "cell_type": "code",
      "source": [
        "a = Body('hero',100, 200, 300)\n",
        "a.role\n",
        "a.kick()\n",
        "a.setDamage(50)\n",
        "a.damage\n",
        "a.Enhance(True)\n",
        "a.damage\n",
        "a.Enhance(False)\n",
        "a.damage"
      ],
      "metadata": {
        "colab": {
          "base_uri": "https://localhost:8080/"
        },
        "id": "MUvR78OCV4qK",
        "outputId": "7b12a73a-87dd-49af-c8ac-04d2a60f2272"
      },
      "execution_count": 30,
      "outputs": [
        {
          "output_type": "execute_result",
          "data": {
            "text/plain": [
              "50"
            ]
          },
          "metadata": {},
          "execution_count": 30
        }
      ]
    },
    {
      "cell_type": "markdown",
      "source": [
        "#문제 1:\n",
        "동물 클래스 Animal을 만들어주세요. Dog와 Cat 클래스를 각각 정의하십시오.\n",
        "\n",
        "Animal 클래스는 name 속성을 가집니다. 이 클래스는 make_sound 메서드를 갖고 있습니다.\n",
        "\n",
        "Dog와 Cat 클래스는 Animal 클래스를 상속받는 클래스입니다.Dog 클래스의 make_sound 메서드는 \"멍멍!\"을, Cat 클래스의 make_sound 메서드는 \"야옹!\"을 출력하도록 재정의하세요."
      ],
      "metadata": {
        "id": "o-uw_SWEbc3u"
      }
    },
    {
      "cell_type": "code",
      "source": [
        "class Animal:\n",
        "    def __init__(self,name):\n",
        "        self.name = name\n",
        "    def make_sound(self):\n",
        "        self.sound = '아'\n",
        "        return self.sound\n",
        "\n",
        "\n",
        "class Dog(Animal):\n",
        "    def make_sound(self):\n",
        "        return '멍멍!'\n",
        "\n",
        "class Cat(Animal):\n",
        "    def make_sound(self):\n",
        "        return '야옹!'\n",
        "\n",
        "c = Animal('초코')\n",
        "c.make_sound()\n",
        "a = Dog('뽀삐')\n",
        "a.make_sound()\n",
        "b = Cat('시안')\n",
        "b.make_sound()"
      ],
      "metadata": {
        "colab": {
          "base_uri": "https://localhost:8080/",
          "height": 35
        },
        "id": "Tqw9BTd2aMye",
        "outputId": "669d5fc9-ea45-48b0-bc2a-4f6ec308685a"
      },
      "execution_count": 53,
      "outputs": [
        {
          "output_type": "execute_result",
          "data": {
            "text/plain": [
              "'야옹!'"
            ],
            "application/vnd.google.colaboratory.intrinsic+json": {
              "type": "string"
            }
          },
          "metadata": {},
          "execution_count": 53
        }
      ]
    },
    {
      "cell_type": "markdown",
      "source": [
        "#문제 2:\n",
        "Person이라는 기본 클래스를 만들어주세요. Person 클래스는 `이름`과 `나이`라는 두 개의 속성과 `소개하기`라는 메서드를 가지며, 이 메서드는 \"Hello World!, 제 이름은 [이름]이고 제 나이는 [나이]살 입니다.\"라는 메시지를 출력합니다.\n"
      ],
      "metadata": {
        "id": "Ca64erJ0bhYn"
      }
    },
    {
      "cell_type": "code",
      "source": [
        "class Person:\n",
        "    def __init__(self,name,age):\n",
        "        self.name = name\n",
        "        self.age = age\n",
        "    def print(self):\n",
        "        return print(f'Hello World!, 제 이름은 {self.name}이고 제 나이는 {self.age}살 입니다.')"
      ],
      "metadata": {
        "id": "o6keQoQ8bjbk"
      },
      "execution_count": 42,
      "outputs": []
    },
    {
      "cell_type": "code",
      "source": [
        "a = Person('홍길동',23)\n",
        "a.print()"
      ],
      "metadata": {
        "colab": {
          "base_uri": "https://localhost:8080/"
        },
        "id": "-BjzGlkub0ye",
        "outputId": "5324398d-1edd-4512-c002-58c0fff22602"
      },
      "execution_count": 43,
      "outputs": [
        {
          "output_type": "stream",
          "name": "stdout",
          "text": [
            "Hello World!, 제 이름은 홍길동이고 제 나이는 23살 입니다.\n"
          ]
        }
      ]
    }
  ]
}