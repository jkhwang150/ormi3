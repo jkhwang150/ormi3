{
  "nbformat": 4,
  "nbformat_minor": 0,
  "metadata": {
    "colab": {
      "provenance": []
    },
    "kernelspec": {
      "name": "python3",
      "display_name": "Python 3"
    },
    "language_info": {
      "name": "python"
    }
  },
  "cells": [
    {
      "cell_type": "code",
      "execution_count": null,
      "metadata": {
        "id": "1lp7Cg_IykUv"
      },
      "outputs": [],
      "source": [
        "# 큐(queue)\n",
        "# 먼저 들어간 요소가 먼저 나옵니다.\n",
        "# [1, 2, 3, 4, 5]가 순서대로 데이터에 삽입된다. 다음중 큐인것은? 1번\n",
        "# 1. [1, 2, 3, 4, 5]\n",
        "# 2. ...어떤 값이든 아닙니다."
      ]
    },
    {
      "cell_type": "code",
      "source": [
        "q = [1, 2, 3, 4, 5]\n",
        "q.append(6)\n",
        "q.pop(0)\n",
        "q"
      ],
      "metadata": {
        "colab": {
          "base_uri": "https://localhost:8080/"
        },
        "id": "jr9sGvFm0827",
        "outputId": "e9fa3fcf-ad76-4193-89aa-e1ff736603a9"
      },
      "execution_count": null,
      "outputs": [
        {
          "output_type": "execute_result",
          "data": {
            "text/plain": [
              "[2, 3, 4, 5, 6]"
            ]
          },
          "metadata": {},
          "execution_count": 1
        }
      ]
    },
    {
      "cell_type": "markdown",
      "source": [
        "### 1.4.2 연결리스트\n",
        "* 연결리스트, 메모리 효율을 위해 사용되는 경우가 많음\n",
        "* 개념 : https://en.wikipedia.org/wiki/Linked_list\n",
        "* 알고리즘 시각화 : https://visualgo.net/ko"
      ],
      "metadata": {
        "id": "MPyT6Sf_2T1F"
      }
    },
    {
      "cell_type": "code",
      "source": [
        "linked_list = {\n",
        "    'head':{\n",
        "        'data':90,\n",
        "        'next': {\n",
        "            'data':2,\n",
        "            'next':{\n",
        "                    'data':77,\n",
        "                    \"next\": {\n",
        "                        'data':35,\n",
        "                        'next':{\n",
        "                            'data':21,\n",
        "                            'next':None\n",
        "                        }\n",
        "                    }\n",
        "                }\n",
        "            }\n",
        "    }\n",
        "}\n",
        "linked_list['head']['next']['next']['next']['data']"
      ],
      "metadata": {
        "colab": {
          "base_uri": "https://localhost:8080/"
        },
        "id": "RpYgS21-1Cdm",
        "outputId": "b3fdd419-f37e-4f68-adfe-d388b4e5afd6"
      },
      "execution_count": null,
      "outputs": [
        {
          "output_type": "execute_result",
          "data": {
            "text/plain": [
              "35"
            ]
          },
          "metadata": {},
          "execution_count": 4
        }
      ]
    },
    {
      "cell_type": "code",
      "source": [
        "# head -> [90, next] -> [2, next] -> [77, next] -> [35, next] -> [21, next] -> None\n",
        "linked_list = {}\n",
        "node1 = {'data': 90, 'next': None} # 이제 이것을 인스턴스로 만들겁니다!\n",
        "node2 = {'data': 2, 'next': None}\n",
        "node3 = {'data': 77, 'next': None}\n",
        "node4 = {'data': 35, 'next': None}\n",
        "node5 = {'data': 21, 'next': None}\n",
        "\n",
        "node1['next'] = node2\n",
        "node2['next'] = node3\n",
        "node3['next'] = node4\n",
        "node4['next'] = node5\n",
        "\n",
        "linked_list['head'] = node1\n",
        "\n",
        "linked_list['head']['next']['next']['next']['data']"
      ],
      "metadata": {
        "id": "D_YT9_pZ4_Mg"
      },
      "execution_count": null,
      "outputs": []
    },
    {
      "cell_type": "code",
      "source": [
        "class Node:\n",
        "    def __init__(self, data):\n",
        "        self.data = data\n",
        "        self.next = None\n",
        "\n",
        "class LinkedList: # list, tuple, dict처럼 하나에 자료형을 만드는 것입니다!\n",
        "    def __init__(self):\n",
        "        init = Node('init')\n",
        "        self.head = init\n",
        "        self.tail = init\n",
        "        self.count = 0\n",
        "\n",
        "    def __len__(self):\n",
        "        return self.count\n",
        "\n",
        "    def append(self, data):\n",
        "        new_node = Node(data)\n",
        "        self.count += 1\n",
        "        self.tail.next = new_node # 처음에는 Node('init').next\n",
        "        self.tail = new_node\n",
        "\n",
        "l = LinkedList()\n",
        "l.append(10)\n",
        "l.append(20)\n",
        "l.append(30)\n",
        "\n",
        "l.head.next.data\n",
        "l.head.next.next.data\n",
        "l.head.next.next.next.data\n",
        "\n",
        "l.head.data\n",
        "l.tail.data"
      ],
      "metadata": {
        "colab": {
          "base_uri": "https://localhost:8080/"
        },
        "id": "y4Z248xKA2KQ",
        "outputId": "df2b9808-3b1a-4749-9bb4-be37e6c06092"
      },
      "execution_count": null,
      "outputs": [
        {
          "output_type": "execute_result",
          "data": {
            "text/plain": [
              "30"
            ]
          },
          "metadata": {},
          "execution_count": 7
        }
      ]
    },
    {
      "cell_type": "markdown",
      "source": [
        "node 설명\n",
        "1. node가 1개도 없을 때\n",
        "```\n",
        "self.head\n",
        "    ↓\n",
        "data: 'init'\n",
        "next: None\n",
        "    ↑\n",
        "self.tail\n",
        "```\n",
        "2. node가 1번째로 들어왔을 때(10 데이터 삽입)\n",
        "```\n",
        "self.head\n",
        "    ↓\n",
        "data: 'init'       data: 10\n",
        "next: --------->   next: None\n",
        "                       ↑\n",
        "                    self.tail\n",
        "```\n",
        "```python\n",
        "# 이코드가 수행\n",
        "self.tail.next = new_node # 처음에는 Node('init').next\n",
        "self.tail = new_node\n",
        "```\n",
        "\n",
        "3. node가 2번째로 들어왔을 때(10 데이터 삽입 이후 20 데이터 삽입)\n",
        "```\n",
        "self.head\n",
        "    ↓\n",
        "data: 'init'       data: 10           data: 20\n",
        "next: --------->   next:  --------->  next: None\n",
        "                                          ↑\n",
        "                                       self.tail\n",
        "```\n",
        "```python\n",
        "# 이코드가 수행\n",
        "self.tail.next = new_node # 처음에는 Node('init').next\n",
        "self.tail = new_node\n",
        "```"
      ],
      "metadata": {
        "id": "4NOaTa25QSas"
      }
    },
    {
      "cell_type": "code",
      "source": [
        "# 메서드 추가해볼게요!\n",
        "# __str__\n",
        "# __repr__\n",
        "\n",
        "class Node:\n",
        "    def __init__(self, data):\n",
        "        self.data = data\n",
        "        self.next = None\n",
        "\n",
        "class LinkedList: # list, tuple, dict처럼 하나에 자료형을 만드는 것입니다!\n",
        "    def __init__(self):\n",
        "        init = Node('init')\n",
        "        self.head = init\n",
        "        self.tail = init\n",
        "        self.count = 0\n",
        "\n",
        "    def __len__(self):\n",
        "        return self.count\n",
        "\n",
        "    def __str__(self):\n",
        "        current = self.head.next\n",
        "        result = ''\n",
        "        for _ in range(self.count):\n",
        "            result += f'{str(current.data)}, '\n",
        "            current = current.next\n",
        "        return f'<{result[:-2]}>'\n",
        "\n",
        "    def __repr__(self):\n",
        "        return\n",
        "\n",
        "    def append(self, data):\n",
        "        new_node = Node(data)\n",
        "        self.count += 1\n",
        "        self.tail.next = new_node # 처음에는 Node('init').next\n",
        "        self.tail = new_node\n",
        "\n",
        "l = LinkedList()\n",
        "l.append(10)\n",
        "l.append(20)\n",
        "l.append(30)\n",
        "\n",
        "len(l)\n",
        "print(l)"
      ],
      "metadata": {
        "colab": {
          "base_uri": "https://localhost:8080/"
        },
        "id": "CXosMif6QTlE",
        "outputId": "668ea014-fdd9-4b15-d370-3fa8c3163b55"
      },
      "execution_count": null,
      "outputs": [
        {
          "output_type": "stream",
          "name": "stdout",
          "text": [
            "<10, 20, 30>\n"
          ]
        }
      ]
    },
    {
      "cell_type": "code",
      "source": [
        "# 메서드 추가해볼게요!\n",
        "# indexing!\n",
        "\n",
        "class Node:\n",
        "    def __init__(self, data):\n",
        "        self.data = data\n",
        "        self.next = None\n",
        "\n",
        "class LinkedList: # list, tuple, dict처럼 하나에 자료형을 만드는 것입니다!\n",
        "    def __init__(self):\n",
        "        init = Node('init')\n",
        "        self.head = init\n",
        "        self.tail = init\n",
        "        self.count = 0\n",
        "\n",
        "    def __len__(self):\n",
        "        return self.count\n",
        "\n",
        "    def __getitem__(self, index):\n",
        "        current = self.head.next\n",
        "        for _ in range(index):\n",
        "            current = current.next\n",
        "        return current.data\n",
        "\n",
        "    def __str__(self):\n",
        "        current = self.head.next\n",
        "        result = ''\n",
        "        for _ in range(self.count):\n",
        "            result += f'{str(current.data)}, '\n",
        "            current = current.next\n",
        "        return f'<{result[:-2]}>'\n",
        "\n",
        "    def __repr__(self):\n",
        "        current = self.head.next\n",
        "        result = ''\n",
        "        for _ in range(self.count):\n",
        "            result += f'{str(current.data)}, '\n",
        "            current = current.next\n",
        "        return f'<{result[:-2]}>'\n",
        "\n",
        "    def append(self, data):\n",
        "        new_node = Node(data)\n",
        "        self.count += 1\n",
        "        self.tail.next = new_node # 처음에는 Node('init').next\n",
        "        self.tail = new_node\n",
        "\n",
        "    def insert(self,idx, data):\n",
        "        if idx == 0:\n",
        "            self.head = Node(value, self.head)\n",
        "        else:\n",
        "            target = self.selectNode(idx-1)\n",
        "            if target == None:\n",
        "                return\n",
        "            newNode = Node(value)\n",
        "            tmp = target.next\n",
        "            target.next = newNode\n",
        "            newNode.next = tmp\n",
        "            self.size+=1\n",
        "\n",
        "    def __iter__ (self):\n",
        "        self.current = self.head\n",
        "        return self"
      ],
      "metadata": {
        "colab": {
          "base_uri": "https://localhost:8080/"
        },
        "id": "LwVPyOXqUKwV",
        "outputId": "fa617a58-d1f6-4d38-e68d-832557ab1bab"
      },
      "execution_count": null,
      "outputs": [
        {
          "output_type": "stream",
          "name": "stdout",
          "text": [
            "<10, 20, 30>\n"
          ]
        },
        {
          "output_type": "execute_result",
          "data": {
            "text/plain": [
              "30"
            ]
          },
          "metadata": {},
          "execution_count": 9
        }
      ]
    },
    {
      "cell_type": "markdown",
      "source": [
        "# 첫 문제"
      ],
      "metadata": {
        "id": "oMp25Jzsq84R"
      }
    },
    {
      "cell_type": "code",
      "source": [
        "# num1과 num2가 주어졌을때, 같으면 1 다르면 -1을 return 하시오.\n",
        "\n",
        "solution = lambda num1,num2: 1 if num1==num2 else -1\n",
        "print(solution(1,2))\n",
        "print(solution(1,1))"
      ],
      "metadata": {
        "colab": {
          "base_uri": "https://localhost:8080/"
        },
        "id": "qqzF-WDjq40o",
        "outputId": "d724ad7b-e991-4b38-8924-a360872f99b5"
      },
      "execution_count": null,
      "outputs": [
        {
          "output_type": "stream",
          "name": "stdout",
          "text": [
            "-1\n",
            "1\n"
          ]
        }
      ]
    },
    {
      "cell_type": "markdown",
      "source": [
        "두번째 문제"
      ],
      "metadata": {
        "id": "mWpwYiEiwptY"
      }
    },
    {
      "cell_type": "code",
      "source": [
        "# 문자열이 s로 주어졌을 때 가장 많이 나온 문자의 수\n",
        "# 두번째로 많이 나온 문자의 수의 차는 얼마인가\n",
        "\n",
        "# 1번 풀이\n",
        "s = 'abcccdeeef'\n",
        "result = {}\n",
        "for i in  set(s):\n",
        "    result[i] = s.count(i)\n",
        "result"
      ],
      "metadata": {
        "colab": {
          "base_uri": "https://localhost:8080/"
        },
        "id": "J2DxBzfnsalf",
        "outputId": "c29d21d7-f587-4214-e075-352dd9f19c6e"
      },
      "execution_count": null,
      "outputs": [
        {
          "output_type": "execute_result",
          "data": {
            "text/plain": [
              "{'e': 3, 'b': 1, 'd': 1, 'c': 3, 'f': 1, 'a': 1}"
            ]
          },
          "metadata": {},
          "execution_count": 12
        }
      ]
    },
    {
      "cell_type": "code",
      "source": [
        "# 2번 풀이\n",
        "import collections\n",
        "\n",
        "s = collections.Counter('abcccdeef')\n",
        "s.most_common()"
      ],
      "metadata": {
        "colab": {
          "base_uri": "https://localhost:8080/"
        },
        "id": "lTeaqI3ZtSV9",
        "outputId": "04acc998-41ae-43db-e953-1fdef153fdb0"
      },
      "execution_count": null,
      "outputs": [
        {
          "output_type": "execute_result",
          "data": {
            "text/plain": [
              "[('c', 3), ('e', 2), ('a', 1), ('b', 1), ('d', 1), ('f', 1)]"
            ]
          },
          "metadata": {},
          "execution_count": 13
        }
      ]
    },
    {
      "cell_type": "code",
      "source": [
        "# 3번 풀이\n",
        "sorted(result.items(), key=lambda x:x[1], reverse=True)"
      ],
      "metadata": {
        "colab": {
          "base_uri": "https://localhost:8080/"
        },
        "id": "ipnDdQ4juYGt",
        "outputId": "c50a5c96-41be-4f05-d72b-f5aabfda6c72"
      },
      "execution_count": null,
      "outputs": [
        {
          "output_type": "execute_result",
          "data": {
            "text/plain": [
              "[('e', 3), ('c', 3), ('b', 1), ('d', 1), ('f', 1), ('a', 1)]"
            ]
          },
          "metadata": {},
          "execution_count": 14
        }
      ]
    },
    {
      "cell_type": "markdown",
      "source": [
        "# 3번째 문제"
      ],
      "metadata": {
        "id": "u93dUf_zwrvp"
      }
    },
    {
      "cell_type": "code",
      "source": [
        "# 머쓱이는 키 순으로 줄을 설때 몇번째인지 궁금하다\n",
        "# 키가 담긴 배열과 머쓱이의 키가 주어진다\n",
        "\n",
        "#나의 풀이\n",
        "def solution(array,height):\n",
        "    array.append(height)\n",
        "    array = sorted(array)\n",
        "    return array.index(height)+1\n",
        "\n",
        "solution([10,20,30,40,11,12,19],15)"
      ],
      "metadata": {
        "colab": {
          "base_uri": "https://localhost:8080/"
        },
        "id": "y3NcHe34ukzp",
        "outputId": "909f2385-4f0b-4000-a2d7-52eab318c92f"
      },
      "execution_count": null,
      "outputs": [
        {
          "output_type": "execute_result",
          "data": {
            "text/plain": [
              "4"
            ]
          },
          "metadata": {},
          "execution_count": 16
        }
      ]
    },
    {
      "cell_type": "code",
      "source": [
        "# 강사님 풀이\n",
        "# 1번\n",
        "# 같은 값이 있었을 경우\n",
        "x = 15\n",
        "for num, value in enumerate(sorted([10, 20, 30, 40, 15, 15, 15, 15, 11, 12, 19])):\n",
        "    if value >= 15:\n",
        "        print(num)\n",
        "        break\n",
        "\n",
        "# 2번\n",
        "x = 15\n",
        "len(list(filter(lambda y: y < x,[10, 20, 30, 40, 11, 12, 19])))"
      ],
      "metadata": {
        "id": "llr73DXlwUTA"
      },
      "execution_count": null,
      "outputs": []
    },
    {
      "cell_type": "markdown",
      "source": [
        "# 4번째 문제"
      ],
      "metadata": {
        "id": "exMYIl4Fwt1O"
      }
    },
    {
      "cell_type": "code",
      "source": [
        "# 자연수 N이 주어지면, N의 각 자릿수의 합을 구하시오.\n",
        "def solution(N):\n",
        "    result = sum(map(int, str(N)))\n",
        "    return result\n",
        "solution(123)"
      ],
      "metadata": {
        "colab": {
          "base_uri": "https://localhost:8080/"
        },
        "id": "MHGAaYb_wljK",
        "outputId": "aaefcf05-983b-4f07-e31c-0c7d3e6e45a3"
      },
      "execution_count": null,
      "outputs": [
        {
          "output_type": "execute_result",
          "data": {
            "text/plain": [
              "6"
            ]
          },
          "metadata": {},
          "execution_count": 4
        }
      ]
    },
    {
      "cell_type": "markdown",
      "source": [
        "#5번째 문제"
      ],
      "metadata": {
        "id": "sxkC2fBax_HJ"
      }
    },
    {
      "cell_type": "code",
      "source": [
        "# 배열 회전시키기\n",
        "\n",
        "def solution(numbers, direction):\n",
        "    answer = []\n",
        "    if(direction == \"right\"):\n",
        "        numbers.insert(0,numbers[-1])\n",
        "        numbers.pop(-1)\n",
        "        return numbers\n",
        "    elif(direction == \"left\"):\n",
        "        numbers.append(numbers[0])\n",
        "        return numbers[1:]"
      ],
      "metadata": {
        "id": "4GhJN6mix-p4"
      },
      "execution_count": null,
      "outputs": []
    },
    {
      "cell_type": "code",
      "source": [
        "import collections\n",
        "\n",
        "d = collections.deque([1,2,3,4,5])\n",
        "d.rotate(1)\n",
        "print(d)\n",
        "d.rotate(2)\n",
        "print(d)"
      ],
      "metadata": {
        "colab": {
          "base_uri": "https://localhost:8080/"
        },
        "id": "NQEMvC_lzMfR",
        "outputId": "51f7a39f-c44f-409e-d25c-06be6b31d515"
      },
      "execution_count": null,
      "outputs": [
        {
          "output_type": "stream",
          "name": "stdout",
          "text": [
            "deque([5, 1, 2, 3, 4])\n",
            "deque([3, 4, 5, 1, 2])\n"
          ]
        }
      ]
    },
    {
      "cell_type": "code",
      "source": [
        "# deque 모\n",
        "# d.append\n",
        "# d.appendleft\n",
        "# d.extend\n",
        "# d.extendleft\n",
        "# d.pop\n",
        "# d.popleft"
      ],
      "metadata": {
        "id": "JJBJlf6Hz64K"
      },
      "execution_count": null,
      "outputs": []
    },
    {
      "cell_type": "markdown",
      "source": [
        "# 6번째 문제"
      ],
      "metadata": {
        "id": "ec-gdEoyzFqr"
      }
    },
    {
      "cell_type": "code",
      "source": [
        "# 숨어있는 숫자의 덧셈 (2)\n",
        "import re\n",
        "def solution(my_string):\n",
        "    answer = re.findall(r\"[0-9]+\",my_string)\n",
        "    answer_sum =0\n",
        "    for i in answer:\n",
        "        answer_sum += int(i)\n",
        "    return answer_sum\n",
        "\n",
        "solution(\"aAb1B2cC34o30p\")"
      ],
      "metadata": {
        "colab": {
          "base_uri": "https://localhost:8080/"
        },
        "id": "3ej8cwZAzHNF",
        "outputId": "eb820d8b-253e-4b31-f823-c6d44e8e1248"
      },
      "execution_count": null,
      "outputs": [
        {
          "output_type": "execute_result",
          "data": {
            "text/plain": [
              "67"
            ]
          },
          "metadata": {},
          "execution_count": 13
        }
      ]
    },
    {
      "cell_type": "code",
      "source": [
        "# 풀이 1.\n",
        "s = \"aAb1B2cC34o31\"\n",
        "s += 'a'\n",
        "result = []\n",
        "temp = '0'\n",
        "for i in s:\n",
        "    if i.isdigit():\n",
        "        temp += i\n",
        "    else:\n",
        "        result.append(int(temp))\n",
        "        temp = '0'\n",
        "sum(result)"
      ],
      "metadata": {
        "colab": {
          "base_uri": "https://localhost:8080/"
        },
        "id": "w-HyVWZQ64eA",
        "outputId": "3f471f40-20ee-40e1-ef5b-d48ae818af7b"
      },
      "execution_count": null,
      "outputs": [
        {
          "output_type": "execute_result",
          "data": {
            "text/plain": [
              "68"
            ]
          },
          "metadata": {},
          "execution_count": 15
        }
      ]
    },
    {
      "cell_type": "code",
      "source": [
        "# 풀이 2.\n",
        "def solution(my_string):\n",
        "    temp = ''\n",
        "    result = 0\n",
        "    l = list(my_string)\n",
        "    dec = 1\n",
        "\n",
        "    for _ in range(len(my_string)):\n",
        "        s = l.pop()\n",
        "        if s.isdigit():\n",
        "            result += int(s)*dec\n",
        "            dec *= 10\n",
        "        else:\n",
        "            dec = 1\n",
        "\n",
        "    return result\n",
        "solution(\"aAb1B2cC34o30p\")"
      ],
      "metadata": {
        "colab": {
          "base_uri": "https://localhost:8080/"
        },
        "id": "Va03_Ub-0pOq",
        "outputId": "36bc6cd9-2b65-4e80-a986-068328dd323d"
      },
      "execution_count": null,
      "outputs": [
        {
          "output_type": "execute_result",
          "data": {
            "text/plain": [
              "67"
            ]
          },
          "metadata": {},
          "execution_count": 17
        }
      ]
    },
    {
      "cell_type": "markdown",
      "source": [
        "# 트리와 그래프"
      ],
      "metadata": {
        "id": "f8waneFiBRbi"
      }
    },
    {
      "cell_type": "code",
      "source": [
        "t = {\n",
        "    'root': {\n",
        "        'value': 5,\n",
        "        'left': {\n",
        "            'value': 3,\n",
        "            'left': None,\n",
        "            'right': None\n",
        "        },\n",
        "        'right': {\n",
        "            'value': 8,\n",
        "            'left': {\n",
        "                'value': 7,\n",
        "                'left': None,\n",
        "                'right': None\n",
        "            },\n",
        "            'right': {\n",
        "                'value': 9,\n",
        "                'left': None,\n",
        "                'right': None\n",
        "            }\n",
        "        }\n",
        "    }\n",
        "}\n",
        "\n",
        "t['root']['value']\n",
        "t['root']['right']['left']['value']"
      ],
      "metadata": {
        "colab": {
          "base_uri": "https://localhost:8080/"
        },
        "id": "Ux68A7K_BG1G",
        "outputId": "2e85d48f-16a8-41b5-a72b-95b9bbf2335f"
      },
      "execution_count": null,
      "outputs": [
        {
          "output_type": "execute_result",
          "data": {
            "text/plain": [
              "7"
            ]
          },
          "metadata": {},
          "execution_count": 20
        }
      ]
    },
    {
      "cell_type": "code",
      "source": [
        "root = {'value': 'root', 'next': None}\n",
        "\n",
        "node1 = {'value': 5, 'left': None, 'right': None}\n",
        "node2 = {'value': 3, 'left': None, 'right': None}\n",
        "node3 = {'value': 8, 'left': None, 'right': None}\n",
        "node4 = {'value': 7, 'left': None, 'right': None}\n",
        "node5 = {'value': 9, 'left': None, 'right': None}\n",
        "\n",
        "root['next'] = node1\n",
        "node1['left'] = node2\n",
        "node1['right'] = node3\n",
        "node3['left'] = node4\n",
        "node3['right'] = node5\n",
        "\n",
        "root['next']['right']['left']['value']"
      ],
      "metadata": {
        "colab": {
          "base_uri": "https://localhost:8080/"
        },
        "id": "-mL061D3Hy3i",
        "outputId": "c4ef5493-9f9f-45a2-df3a-3015afa989df"
      },
      "execution_count": null,
      "outputs": [
        {
          "output_type": "execute_result",
          "data": {
            "text/plain": [
              "7"
            ]
          },
          "metadata": {},
          "execution_count": 19
        }
      ]
    },
    {
      "cell_type": "code",
      "source": [
        "class Node:\n",
        "    def __init__(self, value):\n",
        "        self.value = value\n",
        "        self.left = None\n",
        "        self.right = None\n",
        "\n",
        "node1 = Node(5)\n",
        "node2 = Node(3)\n",
        "node3 = Node(8)\n",
        "node4 = Node(7)\n",
        "node5 = Node(9)\n",
        "\n",
        "node1.left = node2\n",
        "node1.right = node3\n",
        "node3.left = node4\n",
        "node3.right = node5\n",
        "\n",
        "node1.value"
      ],
      "metadata": {
        "id": "mp7PtkNgH3P1",
        "outputId": "c69ec691-d1ca-4cc8-861b-06385fd848cd",
        "colab": {
          "base_uri": "https://localhost:8080/"
        }
      },
      "execution_count": null,
      "outputs": [
        {
          "output_type": "execute_result",
          "data": {
            "text/plain": [
              "5"
            ]
          },
          "metadata": {},
          "execution_count": 21
        }
      ]
    },
    {
      "cell_type": "code",
      "source": [
        "찾고싶은값 = 7\n",
        "current = node1\n",
        "\n",
        "if current.value == 찾고싶은값:\n",
        "    print('찾았음!')\n",
        "elif current.value > 찾고싶은값:\n",
        "    current = current.left\n",
        "elif current.value < 찾고싶은값:\n",
        "    current = current.right\n",
        "\n",
        "current.value # 8\n",
        "\n",
        "if current.value == 찾고싶은값:\n",
        "    print('찾았음!')\n",
        "elif current.value > 찾고싶은값:\n",
        "    current = current.left\n",
        "elif current.value < 찾고싶은값:\n",
        "    current = current.right\n",
        "\n",
        "current.value # 7\n",
        "\n",
        "if current.value == 찾고싶은값:\n",
        "    print('찾았음!')\n",
        "elif current.value > 찾고싶은값:\n",
        "    current = current.left\n",
        "elif current.value < 찾고싶은값:\n",
        "    current = current.right\n",
        "\n",
        "current.value # 7"
      ],
      "metadata": {
        "id": "qImT4WWNH9YG"
      },
      "execution_count": null,
      "outputs": []
    },
    {
      "cell_type": "code",
      "source": [
        "# 간소화를 한 tree입니다.\n",
        "# linked list와 마찬가지로 완벽한 자료구조를 만드려면 시간이 걸립니다.\n",
        "class Node:\n",
        "    def __init__(self, value):\n",
        "        self.value = value\n",
        "        self.left = None\n",
        "        self.right = None\n",
        "\n",
        "\n",
        "class Tree:\n",
        "    def __init__(self, data):\n",
        "        init = Node(data)\n",
        "        self.root = init\n",
        "        self.count = 1\n",
        "\n",
        "    def __len__(self):\n",
        "        return self.count\n",
        "\n",
        "    def insert(self, data):\n",
        "        new_node = Node(data)\n",
        "        current_node = self.root\n",
        "        while current_node:\n",
        "            if data == current_node.value: # 같은 데이터 만나면 넣어주지 않습니다!\n",
        "                return\n",
        "            elif data < current_node.value:\n",
        "                if not current_node.left: # 왼쪽으로 갔더니 비어있는 경우!\n",
        "                    current_node.left = new_node\n",
        "                    self.count += 1\n",
        "                    return\n",
        "                current_node = current_node.left\n",
        "            elif data > current_node.value:\n",
        "                if not current_node.right: # 오른쪽으로 갔더니 비어있는 경우!\n",
        "                    current_node.right = new_node\n",
        "                    self.count += 1\n",
        "                    return\n",
        "                current_node = current_node.right\n",
        "\n",
        "    # 깊스너큐(깊이우선 탐색은 스택, 너비우선 탐색은 큐)\n",
        "    def DFS(self):\n",
        "        # 깊이우선탐색, DFS(Depth First Search)\n",
        "        # Stack 이용!\n",
        "        pass\n",
        "\n",
        "    def BFS(self):\n",
        "        # 너비우선탐색, BFS(Breadth First Search)\n",
        "        # Queue 이용!\n",
        "        pass\n",
        "\n",
        "tree = Tree(5)\n",
        "tree.insert(3)\n",
        "tree.insert(8)\n",
        "tree.insert(1)\n",
        "tree.insert(4)\n",
        "tree.insert(6)\n",
        "tree.insert(9)\n",
        "\n",
        "tree.root.value\n",
        "tree.root.left.value\n",
        "tree.root.right.value\n",
        "tree.root.right.left.value"
      ],
      "metadata": {
        "id": "NkdTnzkP8Smw"
      },
      "execution_count": null,
      "outputs": []
    }
  ]
}